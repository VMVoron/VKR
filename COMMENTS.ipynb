{
 "cells": [
  {
   "cell_type": "code",
   "execution_count": 1,
   "id": "bf234495-ea49-4cd7-a223-6ae939887a3c",
   "metadata": {},
   "outputs": [
    {
     "name": "stdout",
     "output_type": "stream",
     "text": [
      "Requirement already satisfied: pymystem3 in c:\\programdata\\anaconda3\\lib\\site-packages (0.2.0)\n",
      "Requirement already satisfied: requests in c:\\programdata\\anaconda3\\lib\\site-packages (from pymystem3) (2.28.2)\n",
      "Requirement already satisfied: urllib3<1.27,>=1.21.1 in c:\\programdata\\anaconda3\\lib\\site-packages (from requests->pymystem3) (1.26.7)\n",
      "Requirement already satisfied: idna<4,>=2.5 in c:\\programdata\\anaconda3\\lib\\site-packages (from requests->pymystem3) (3.2)\n",
      "Requirement already satisfied: charset-normalizer<4,>=2 in c:\\programdata\\anaconda3\\lib\\site-packages (from requests->pymystem3) (2.0.4)\n",
      "Requirement already satisfied: certifi>=2017.4.17 in c:\\programdata\\anaconda3\\lib\\site-packages (from requests->pymystem3) (2021.10.8)\n"
     ]
    },
    {
     "name": "stderr",
     "output_type": "stream",
     "text": [
      "WARNING: Ignoring invalid distribution -atplotlib (c:\\programdata\\anaconda3\\lib\\site-packages)\n",
      "WARNING: Ignoring invalid distribution -atplotlib (c:\\programdata\\anaconda3\\lib\\site-packages)\n",
      "WARNING: Ignoring invalid distribution -atplotlib (c:\\programdata\\anaconda3\\lib\\site-packages)\n",
      "WARNING: Ignoring invalid distribution -atplotlib (c:\\programdata\\anaconda3\\lib\\site-packages)\n",
      "WARNING: Ignoring invalid distribution -atplotlib (c:\\programdata\\anaconda3\\lib\\site-packages)\n",
      "WARNING: Ignoring invalid distribution -atplotlib (c:\\programdata\\anaconda3\\lib\\site-packages)\n"
     ]
    },
    {
     "name": "stdout",
     "output_type": "stream",
     "text": [
      "Requirement already satisfied: dostoevsky in c:\\programdata\\anaconda3\\lib\\site-packages (0.6.0)\n",
      "Requirement already satisfied: razdel==0.5.0 in c:\\programdata\\anaconda3\\lib\\site-packages (from dostoevsky) (0.5.0)\n",
      "Requirement already satisfied: fasttext==0.9.2 in c:\\programdata\\anaconda3\\lib\\site-packages (from dostoevsky) (0.9.2)\n",
      "Requirement already satisfied: pybind11>=2.2 in c:\\programdata\\anaconda3\\lib\\site-packages (from fasttext==0.9.2->dostoevsky) (2.10.3)\n",
      "Requirement already satisfied: numpy in c:\\programdata\\anaconda3\\lib\\site-packages (from fasttext==0.9.2->dostoevsky) (1.24.3)\n",
      "Requirement already satisfied: setuptools>=0.7.0 in c:\\programdata\\anaconda3\\lib\\site-packages (from fasttext==0.9.2->dostoevsky) (58.0.4)\n"
     ]
    },
    {
     "name": "stderr",
     "output_type": "stream",
     "text": [
      "WARNING: Ignoring invalid distribution -atplotlib (c:\\programdata\\anaconda3\\lib\\site-packages)\n",
      "WARNING: Ignoring invalid distribution -atplotlib (c:\\programdata\\anaconda3\\lib\\site-packages)\n",
      "WARNING: Ignoring invalid distribution -atplotlib (c:\\programdata\\anaconda3\\lib\\site-packages)\n",
      "WARNING: Ignoring invalid distribution -atplotlib (c:\\programdata\\anaconda3\\lib\\site-packages)\n",
      "WARNING: Ignoring invalid distribution -atplotlib (c:\\programdata\\anaconda3\\lib\\site-packages)\n",
      "WARNING: Ignoring invalid distribution -atplotlib (c:\\programdata\\anaconda3\\lib\\site-packages)\n"
     ]
    },
    {
     "name": "stdout",
     "output_type": "stream",
     "text": [
      "Requirement already satisfied: pymorphy2 in c:\\programdata\\anaconda3\\lib\\site-packages (0.9.1)\n",
      "Requirement already satisfied: pymorphy2-dicts-ru<3.0,>=2.4 in c:\\programdata\\anaconda3\\lib\\site-packages (from pymorphy2) (2.4.417127.4579844)\n",
      "Requirement already satisfied: docopt>=0.6 in c:\\programdata\\anaconda3\\lib\\site-packages (from pymorphy2) (0.6.2)\n",
      "Requirement already satisfied: dawg-python>=0.7.1 in c:\\programdata\\anaconda3\\lib\\site-packages (from pymorphy2) (0.7.2)\n"
     ]
    },
    {
     "name": "stderr",
     "output_type": "stream",
     "text": [
      "WARNING: Ignoring invalid distribution -atplotlib (c:\\programdata\\anaconda3\\lib\\site-packages)\n",
      "WARNING: Ignoring invalid distribution -atplotlib (c:\\programdata\\anaconda3\\lib\\site-packages)\n",
      "WARNING: Ignoring invalid distribution -atplotlib (c:\\programdata\\anaconda3\\lib\\site-packages)\n",
      "WARNING: Ignoring invalid distribution -atplotlib (c:\\programdata\\anaconda3\\lib\\site-packages)\n",
      "WARNING: Ignoring invalid distribution -atplotlib (c:\\programdata\\anaconda3\\lib\\site-packages)\n",
      "WARNING: Ignoring invalid distribution -atplotlib (c:\\programdata\\anaconda3\\lib\\site-packages)\n"
     ]
    }
   ],
   "source": [
    "!pip install pymystem3\n",
    "!pip install dostoevsky\n",
    "!pip install pymorphy2"
   ]
  },
  {
   "cell_type": "code",
   "execution_count": 17,
   "id": "41bc0059-b350-4461-a992-c83f71cdb659",
   "metadata": {},
   "outputs": [
    {
     "name": "stderr",
     "output_type": "stream",
     "text": [
      "[nltk_data] Downloading package punkt to\n",
      "[nltk_data]     C:\\Users\\msvic\\AppData\\Roaming\\nltk_data...\n",
      "[nltk_data]   Package punkt is already up-to-date!\n"
     ]
    }
   ],
   "source": [
    "import pandas as pd\n",
    "import numpy as np\n",
    "import nltk         #  pip install nltk\n",
    "import pymorphy2    #  pip install pymorphy2 pymorphy2-dicts\n",
    "nltk.download('punkt')\n",
    "from pymystem3 import Mystem\n",
    "from datetime import datetime\n",
    "from dostoevsky.tokenization import RegexTokenizer\n",
    "from dostoevsky.models import FastTextSocialNetworkModel"
   ]
  },
  {
   "cell_type": "code",
   "execution_count": 18,
   "id": "ff2c8b88-03c8-4c7c-80a5-13bcad6dc31b",
   "metadata": {},
   "outputs": [],
   "source": [
    "dfcolumns = pd.read_csv(r'C:/Users/msvic/ВКР/Kalininsky_comments.csv',\n",
    "                        nrows = 1, delimiter=';', encoding = 'UTF-8')\n",
    "df = pd.read_csv(r'C:/Users/msvic/ВКР/Kalininsky_comments.csv',\n",
    "                  header = None,\n",
    "                  delimiter=';',\n",
    "                  skiprows = 1,\n",
    "                  encoding='UTF-8',\n",
    "                  usecols = list(range(len(dfcolumns.columns))),\n",
    "                  names = dfcolumns.columns)"
   ]
  },
  {
   "cell_type": "code",
   "execution_count": 19,
   "id": "43b9e53a-c929-4d92-b0ce-705ad09f261e",
   "metadata": {},
   "outputs": [
    {
     "name": "stdout",
     "output_type": "stream",
     "text": [
      "260737\n"
     ]
    }
   ],
   "source": [
    "length = len(df)\n",
    "print(length)"
   ]
  },
  {
   "cell_type": "code",
   "execution_count": 20,
   "id": "56779aba-19f7-46e6-80b1-86188ee7f1a3",
   "metadata": {},
   "outputs": [
    {
     "data": {
      "text/html": [
       "<div>\n",
       "<style scoped>\n",
       "    .dataframe tbody tr th:only-of-type {\n",
       "        vertical-align: middle;\n",
       "    }\n",
       "\n",
       "    .dataframe tbody tr th {\n",
       "        vertical-align: top;\n",
       "    }\n",
       "\n",
       "    .dataframe thead th {\n",
       "        text-align: right;\n",
       "    }\n",
       "</style>\n",
       "<table border=\"1\" class=\"dataframe\">\n",
       "  <thead>\n",
       "    <tr style=\"text-align: right;\">\n",
       "      <th></th>\n",
       "      <th>ID</th>\n",
       "      <th>ID автора</th>\n",
       "      <th>Ссылка на автора</th>\n",
       "      <th>Имя и фамилия автора</th>\n",
       "      <th>Пол автора</th>\n",
       "      <th>Ссылка на комментарий</th>\n",
       "      <th>Номер сообщества</th>\n",
       "      <th>Дата и время</th>\n",
       "      <th>Время</th>\n",
       "      <th>Обращение</th>\n",
       "      <th>Текст комментария</th>\n",
       "      <th>Число лайков к комментарию</th>\n",
       "      <th>Длина</th>\n",
       "    </tr>\n",
       "  </thead>\n",
       "  <tbody>\n",
       "    <tr>\n",
       "      <th>0</th>\n",
       "      <td>1</td>\n",
       "      <td>601628352</td>\n",
       "      <td>https://vk.com/id601628352</td>\n",
       "      <td>Михаил Лахин</td>\n",
       "      <td>М</td>\n",
       "      <td>https://vk.com/wall-23904_314769?reply=314771</td>\n",
       "      <td>NaN</td>\n",
       "      <td>01.05.2023 22:34</td>\n",
       "      <td>22:34</td>\n",
       "      <td>0</td>\n",
       "      <td>Народ и партия едины</td>\n",
       "      <td>0.0</td>\n",
       "      <td>20</td>\n",
       "    </tr>\n",
       "  </tbody>\n",
       "</table>\n",
       "</div>"
      ],
      "text/plain": [
       "   ID  ID автора            Ссылка на автора Имя и фамилия автора Пол автора   \n",
       "0   1  601628352  https://vk.com/id601628352         Михаил Лахин          М  \\\n",
       "\n",
       "                           Ссылка на комментарий  Номер сообщества   \n",
       "0  https://vk.com/wall-23904_314769?reply=314771               NaN  \\\n",
       "\n",
       "       Дата и время  Время  Обращение     Текст комментария   \n",
       "0  01.05.2023 22:34  22:34          0  Народ и партия едины  \\\n",
       "\n",
       "   Число лайков к комментарию  Длина  \n",
       "0                         0.0     20  "
      ]
     },
     "execution_count": 20,
     "metadata": {},
     "output_type": "execute_result"
    }
   ],
   "source": [
    "df.head()[:1]"
   ]
  },
  {
   "cell_type": "code",
   "execution_count": 21,
   "id": "600f6d49-d9d5-40e3-ad8f-cf96a147bbe1",
   "metadata": {},
   "outputs": [
    {
     "name": "stdout",
     "output_type": "stream",
     "text": [
      "<class 'pandas.core.frame.DataFrame'>\n",
      "RangeIndex: 260737 entries, 0 to 260736\n",
      "Data columns (total 13 columns):\n",
      " #   Column                      Non-Null Count   Dtype  \n",
      "---  ------                      --------------   -----  \n",
      " 0   ID                          260737 non-null  int64  \n",
      " 1   ID автора                   260737 non-null  int64  \n",
      " 2   Ссылка на автора            260737 non-null  object \n",
      " 3   Имя и фамилия автора        260172 non-null  object \n",
      " 4   Пол автора                  250718 non-null  object \n",
      " 5   Ссылка на комментарий       260737 non-null  object \n",
      " 6   Номер сообщества            0 non-null       float64\n",
      " 7   Дата и время                260737 non-null  object \n",
      " 8   Время                       260737 non-null  object \n",
      " 9   Обращение                   260737 non-null  int64  \n",
      " 10  Текст комментария           254775 non-null  object \n",
      " 11  Число лайков к комментарию  260735 non-null  float64\n",
      " 12  Длина                       260737 non-null  int64  \n",
      "dtypes: float64(2), int64(4), object(7)\n",
      "memory usage: 25.9+ MB\n"
     ]
    }
   ],
   "source": [
    "df.info()"
   ]
  },
  {
   "cell_type": "code",
   "execution_count": 22,
   "id": "c45b4b63-db8d-4cbe-989c-1b81b58ea956",
   "metadata": {},
   "outputs": [
    {
     "name": "stdout",
     "output_type": "stream",
     "text": [
      "['ID', 'ID автора', 'Ссылка на автора', 'Имя и фамилия автора', 'Пол автора', 'Ссылка на комментарий', 'Номер сообщества', 'Дата и время', 'Время', 'Обращение', 'Текст комментария', 'Число лайков к комментарию', 'Длина']\n"
     ]
    }
   ],
   "source": [
    "cols = [col for col in df.columns]\n",
    "print(cols)"
   ]
  },
  {
   "cell_type": "code",
   "execution_count": 23,
   "id": "95f1b282-4b55-4cd1-93bc-9a6532112635",
   "metadata": {},
   "outputs": [],
   "source": [
    "import pandas as pd\n",
    "import re\n",
    "\n",
    "# Определяем функцию для извлечения цифр из строки\n",
    "def extract_numbers(s):\n",
    "    return re.findall(r'-(\\d+)_', s)[0]\n",
    "\n",
    "# Создаем новый столбец с извлеченными цифрами\n",
    "df['ССЫЛКА НА СООБЩЕСТВО'] = df['Ссылка на комментарий'].apply(lambda s: 'https://vk.com/club' + str(extract_numbers(s)))"
   ]
  },
  {
   "cell_type": "code",
   "execution_count": 25,
   "id": "8eb753b9-22ae-43b8-95e7-c9e92d14566f",
   "metadata": {},
   "outputs": [],
   "source": [
    "df['ТЕКСТ2'] = df['Текст комментария']"
   ]
  },
  {
   "cell_type": "code",
   "execution_count": 26,
   "id": "6b4ce77e-0750-446a-987a-3efa9661bb99",
   "metadata": {},
   "outputs": [
    {
     "name": "stdout",
     "output_type": "stream",
     "text": [
      "Cleaning text...\n",
      "Successful!\n",
      "---------------------------------\n"
     ]
    }
   ],
   "source": [
    "import re\n",
    "\n",
    "print(\"Cleaning text...\")\n",
    "with open(\"C:/myR/stopwords.txt\", \"r\", encoding=\"UTF-8\") as file:\n",
    "    stop_words = set(map(str.strip, file))\n",
    "\n",
    "\n",
    "df['ТЕКСТ2'] = df['ТЕКСТ2'].str.lower().str.replace(\"<[^>]*>\", \" \", regex=True) #Удаляем знаки\n",
    "df['ТЕКСТ2'] = df['ТЕКСТ2'].str.replace(\"\\r|\\n\", \"\", regex=True) #Удаляем переходы на новую строку\n",
    "df['ТЕКСТ2'] = df['ТЕКСТ2'].str.replace(\"\\[[^[]*\\|\", \"\", regex=True)\n",
    "df['ТЕКСТ2'] = df['ТЕКСТ2'].str.replace(\"[^\\w\\s]\", \" \", regex=True)\n",
    "df['ТЕКСТ2'] = df['ТЕКСТ2'].str.replace(\"ё\", \"е\", regex=True) #Заменяем \"ё\" на \"е\"\n",
    "df['ТЕКСТ2'] = df['ТЕКСТ2'].str.replace(\"\\s\\s+\", \" \", regex=True)\n",
    "df['ТЕКСТ2'] = df['ТЕКСТ2'].str.replace(\"\\d\", \"\", regex=True) #Удаляем цифры\n",
    "df['ТЕКСТ2'] = df['ТЕКСТ2'].str.replace(\"  \", \" \", regex=True) #Удаляем двойные пробелы\n",
    "df['ТЕКСТ2'] = df['ТЕКСТ2'].str.strip() #Удаляем пробелы в обоих концах строк\n",
    "df['ТЕКСТ2'] = df['ТЕКСТ2'].str.replace(\"[a-z]\", \"\", regex=True)\n",
    "df['ТЕКСТ2'] = df['ТЕКСТ2'].str.replace(\"[A-Z]\", \"\", regex=True)\n",
    "\n",
    "\n",
    "# Удаляем стоп-слова\n",
    "df['ТЕКСТ2'] = df['ТЕКСТ2'].apply(lambda x: ' '.join(filter(lambda word: word not in stop_words, x.split())) if isinstance(x, str) else x)\n",
    "\n",
    "print(\"Successful!\")\n",
    "print(\"---------------------------------\")\n"
   ]
  },
  {
   "cell_type": "code",
   "execution_count": 27,
   "id": "b623fd1b-ef5e-4f44-ae04-4b85c7683e97",
   "metadata": {},
   "outputs": [
    {
     "data": {
      "text/plain": [
       "0                                        народ партия едины\n",
       "1         наверное первомайские демонстрации ходил колле...\n",
       "2         года ходил городе постоянно протяжении лет про...\n",
       "3                           спасибо публикуйте таких статей\n",
       "4                                          рахова поздравит\n",
       "                                ...                        \n",
       "260732    наши источники мои утверждения несколько публи...\n",
       "260733    добрый чему вопросы такого характера стали гор...\n",
       "260734            адрес никто просит понимать вопрос живете\n",
       "260735    олечка несмотря вашу явную нелюбовь собакам лю...\n",
       "260736    животные кошки собаки взятые приюта троллейбус...\n",
       "Name: ТЕКСТ2, Length: 260737, dtype: object"
      ]
     },
     "execution_count": 27,
     "metadata": {},
     "output_type": "execute_result"
    }
   ],
   "source": [
    "print(df['ТЕКСТ2'])"
   ]
  },
  {
   "cell_type": "code",
   "execution_count": 29,
   "id": "5d47ae3e-2f69-4296-a426-4344bbbfcfd4",
   "metadata": {},
   "outputs": [],
   "source": [
    "import pandas as pd\n",
    "import openpyxl\n",
    "\n",
    "# читаем файл Excel\n",
    "wb = openpyxl.load_workbook('C:/Users/msvic/ВКР/Base.xlsx')\n",
    "ws = wb.active\n",
    "\n",
    "\n",
    "# получаем значения столбцов H, C и D - можно через ord, например: ord('C')-64\n",
    "links = [cell.value for row in ws.iter_rows(min_row=2, max_row=56, min_col=8, max_col=8) for cell in row] # H - 8, строки с 2 по 56\n",
    "types = [cell.value for row in ws.iter_rows(min_row=2, max_row=56, min_col=3, max_col=3) for cell in row]\n",
    "subtypes = [cell.value for row in ws.iter_rows(min_row=2, max_row=56, min_col=4, max_col=4) for cell in row]\n",
    "\n",
    "# присваиваем значения столбца 'type' в зависимости от значения столбца 'link'\n",
    "for i, row in df.iterrows():\n",
    "    if row['ССЫЛКА НА СООБЩЕСТВО'] in links:\n",
    "        index = links.index(row['ССЫЛКА НА СООБЩЕСТВО'])\n",
    "        df.at[i, 'ТИП'] = types[index]\n",
    "        df.at[i, 'ПОДТИП'] = subtypes[index]"
   ]
  },
  {
   "cell_type": "code",
   "execution_count": 30,
   "id": "cfc844ad-9fb4-4ed1-8919-eeaa2e324858",
   "metadata": {},
   "outputs": [
    {
     "data": {
      "text/html": [
       "<div>\n",
       "<style scoped>\n",
       "    .dataframe tbody tr th:only-of-type {\n",
       "        vertical-align: middle;\n",
       "    }\n",
       "\n",
       "    .dataframe tbody tr th {\n",
       "        vertical-align: top;\n",
       "    }\n",
       "\n",
       "    .dataframe thead th {\n",
       "        text-align: right;\n",
       "    }\n",
       "</style>\n",
       "<table border=\"1\" class=\"dataframe\">\n",
       "  <thead>\n",
       "    <tr style=\"text-align: right;\">\n",
       "      <th></th>\n",
       "      <th>ID</th>\n",
       "      <th>ID автора</th>\n",
       "      <th>Ссылка на автора</th>\n",
       "      <th>Имя и фамилия автора</th>\n",
       "      <th>Пол автора</th>\n",
       "      <th>Ссылка на комментарий</th>\n",
       "      <th>Номер сообщества</th>\n",
       "      <th>Дата и время</th>\n",
       "      <th>Время</th>\n",
       "      <th>Обращение</th>\n",
       "      <th>Текст комментария</th>\n",
       "      <th>Число лайков к комментарию</th>\n",
       "      <th>Длина</th>\n",
       "      <th>ССЫЛКА НА СООБЩЕСТВО</th>\n",
       "      <th>ТЕКСТ2</th>\n",
       "      <th>ТИП</th>\n",
       "      <th>ПОДТИП</th>\n",
       "    </tr>\n",
       "  </thead>\n",
       "  <tbody>\n",
       "    <tr>\n",
       "      <th>0</th>\n",
       "      <td>1</td>\n",
       "      <td>601628352</td>\n",
       "      <td>https://vk.com/id601628352</td>\n",
       "      <td>Михаил Лахин</td>\n",
       "      <td>М</td>\n",
       "      <td>https://vk.com/wall-23904_314769?reply=314771</td>\n",
       "      <td>NaN</td>\n",
       "      <td>01.05.2023 22:34</td>\n",
       "      <td>22:34</td>\n",
       "      <td>0</td>\n",
       "      <td>Народ и партия едины</td>\n",
       "      <td>0.0</td>\n",
       "      <td>20</td>\n",
       "      <td>https://vk.com/club23904</td>\n",
       "      <td>народ партия едины</td>\n",
       "      <td>official</td>\n",
       "      <td>dist</td>\n",
       "    </tr>\n",
       "    <tr>\n",
       "      <th>1</th>\n",
       "      <td>2</td>\n",
       "      <td>13329321</td>\n",
       "      <td>https://vk.com/id13329321</td>\n",
       "      <td>Анна Коробкова</td>\n",
       "      <td>Ж</td>\n",
       "      <td>https://vk.com/wall-23904_314758?reply=314759</td>\n",
       "      <td>NaN</td>\n",
       "      <td>01.05.2023 18:06</td>\n",
       "      <td>18:06</td>\n",
       "      <td>0</td>\n",
       "      <td>Наверное, он и на первомайские демонстрации хо...</td>\n",
       "      <td>0.0</td>\n",
       "      <td>149</td>\n",
       "      <td>https://vk.com/club23904</td>\n",
       "      <td>наверное первомайские демонстрации ходил колле...</td>\n",
       "      <td>official</td>\n",
       "      <td>dist</td>\n",
       "    </tr>\n",
       "    <tr>\n",
       "      <th>2</th>\n",
       "      <td>3</td>\n",
       "      <td>1347813</td>\n",
       "      <td>https://vk.com/id1347813</td>\n",
       "      <td>Андрей Ходырев</td>\n",
       "      <td>М</td>\n",
       "      <td>https://vk.com/wall-23904_314758?reply=314773</td>\n",
       "      <td>NaN</td>\n",
       "      <td>01.05.2023 23:12</td>\n",
       "      <td>23:12</td>\n",
       "      <td>2</td>\n",
       "      <td>[id13329321|Анна], два года не ходил - не был ...</td>\n",
       "      <td>0.0</td>\n",
       "      <td>116</td>\n",
       "      <td>https://vk.com/club23904</td>\n",
       "      <td>года ходил городе постоянно протяжении лет про...</td>\n",
       "      <td>official</td>\n",
       "      <td>dist</td>\n",
       "    </tr>\n",
       "    <tr>\n",
       "      <th>3</th>\n",
       "      <td>4</td>\n",
       "      <td>144899983</td>\n",
       "      <td>https://vk.com/id144899983</td>\n",
       "      <td>Александр Пенин</td>\n",
       "      <td>М</td>\n",
       "      <td>https://vk.com/wall-23904_314758?reply=314772</td>\n",
       "      <td>NaN</td>\n",
       "      <td>01.05.2023 22:48</td>\n",
       "      <td>22:48</td>\n",
       "      <td>0</td>\n",
       "      <td>Спасибо, публикуйте больше таких статей.</td>\n",
       "      <td>1.0</td>\n",
       "      <td>40</td>\n",
       "      <td>https://vk.com/club23904</td>\n",
       "      <td>спасибо публикуйте таких статей</td>\n",
       "      <td>official</td>\n",
       "      <td>dist</td>\n",
       "    </tr>\n",
       "    <tr>\n",
       "      <th>4</th>\n",
       "      <td>5</td>\n",
       "      <td>3648052</td>\n",
       "      <td>https://vk.com/id3648052</td>\n",
       "      <td>Виталий Селиванов</td>\n",
       "      <td>М</td>\n",
       "      <td>https://vk.com/wall-23904_314714?reply=314717</td>\n",
       "      <td>NaN</td>\n",
       "      <td>01.05.2023 9:16</td>\n",
       "      <td>9:16</td>\n",
       "      <td>0</td>\n",
       "      <td>А Рахова поздравит?</td>\n",
       "      <td>1.0</td>\n",
       "      <td>19</td>\n",
       "      <td>https://vk.com/club23904</td>\n",
       "      <td>рахова поздравит</td>\n",
       "      <td>official</td>\n",
       "      <td>dist</td>\n",
       "    </tr>\n",
       "  </tbody>\n",
       "</table>\n",
       "</div>"
      ],
      "text/plain": [
       "   ID  ID автора            Ссылка на автора Имя и фамилия автора Пол автора   \n",
       "0   1  601628352  https://vk.com/id601628352         Михаил Лахин          М  \\\n",
       "1   2   13329321   https://vk.com/id13329321       Анна Коробкова          Ж   \n",
       "2   3    1347813    https://vk.com/id1347813       Андрей Ходырев          М   \n",
       "3   4  144899983  https://vk.com/id144899983      Александр Пенин          М   \n",
       "4   5    3648052    https://vk.com/id3648052    Виталий Селиванов          М   \n",
       "\n",
       "                           Ссылка на комментарий  Номер сообщества   \n",
       "0  https://vk.com/wall-23904_314769?reply=314771               NaN  \\\n",
       "1  https://vk.com/wall-23904_314758?reply=314759               NaN   \n",
       "2  https://vk.com/wall-23904_314758?reply=314773               NaN   \n",
       "3  https://vk.com/wall-23904_314758?reply=314772               NaN   \n",
       "4  https://vk.com/wall-23904_314714?reply=314717               NaN   \n",
       "\n",
       "       Дата и время  Время  Обращение   \n",
       "0  01.05.2023 22:34  22:34          0  \\\n",
       "1  01.05.2023 18:06  18:06          0   \n",
       "2  01.05.2023 23:12  23:12          2   \n",
       "3  01.05.2023 22:48  22:48          0   \n",
       "4   01.05.2023 9:16   9:16          0   \n",
       "\n",
       "                                   Текст комментария   \n",
       "0                               Народ и партия едины  \\\n",
       "1  Наверное, он и на первомайские демонстрации хо...   \n",
       "2  [id13329321|Анна], два года не ходил - не был ...   \n",
       "3           Спасибо, публикуйте больше таких статей.   \n",
       "4                                А Рахова поздравит?   \n",
       "\n",
       "   Число лайков к комментарию  Длина      ССЫЛКА НА СООБЩЕСТВО   \n",
       "0                         0.0     20  https://vk.com/club23904  \\\n",
       "1                         0.0    149  https://vk.com/club23904   \n",
       "2                         0.0    116  https://vk.com/club23904   \n",
       "3                         1.0     40  https://vk.com/club23904   \n",
       "4                         1.0     19  https://vk.com/club23904   \n",
       "\n",
       "                                              ТЕКСТ2       ТИП ПОДТИП  \n",
       "0                                 народ партия едины  official   dist  \n",
       "1  наверное первомайские демонстрации ходил колле...  official   dist  \n",
       "2  года ходил городе постоянно протяжении лет про...  official   dist  \n",
       "3                    спасибо публикуйте таких статей  official   dist  \n",
       "4                                   рахова поздравит  official   dist  "
      ]
     },
     "execution_count": 30,
     "metadata": {},
     "output_type": "execute_result"
    }
   ],
   "source": [
    "print(df.head())"
   ]
  },
  {
   "cell_type": "code",
   "execution_count": 31,
   "id": "4b6dc6f0-204c-4584-a16c-bea5708904d6",
   "metadata": {},
   "outputs": [],
   "source": [
    "df['ТЕКСТ3'] = df['ТЕКСТ2']"
   ]
  },
  {
   "cell_type": "code",
   "execution_count": null,
   "id": "59357bd1-06bd-4955-962c-cdf0067fc6ad",
   "metadata": {},
   "outputs": [],
   "source": [
    "from concurrent.futures import ThreadPoolExecutor\n",
    "from pymystem3 import Mystem\n",
    "\n",
    "### Здесь мы создаем функцию lemmatize_text, которая принимает на вход текст и возвращает лемматизированный текст \n",
    "\n",
    "def lemmatize_text(text):                         \n",
    "    m = Mystem()\n",
    "    lemmas = m.lemmatize(text)                       #лемматизируем текст\n",
    "    list_len = len(lemmas)                           #узнаем количество слов в list'е lemmas (удвоенное)\n",
    "    if list_len > 0:                                 #проверяем есть ли слова в посте\n",
    "        if list_len == 2:                            #проверяем больше ли одного слова в посте\n",
    "            mystr = lemmas[0]                        #приравниваем строку для записи в csv файл с единственным словом в посте\n",
    "        elif list_len > 2:                           # == если в посте больше двух слов\n",
    "            list_len -= 2                            # кол-во элементов в списке на 1 больше индекса последнего элемента списка;\n",
    "            mystr = \"\"                               # последний элемент данного списка == '\\n'\n",
    "            i = 0\n",
    "            while i <= list_len:                       #цикл считывания лемм\n",
    "                mystr += lemmas[i] + \" \"               #прибавляем слова к строке для записи с пробелом на конце\n",
    "                i += 2                               #так как в списке все слова имеют четный индекс, то прибавляем 2\n",
    "        return mystr.strip()\n",
    "    else:\n",
    "        return \"\"                               \n",
    "\n",
    "\n",
    "    \n",
    "def process_chunk(chunk):                             # каждый chunk состояит из 1/n куска df\n",
    "    \n",
    "    for i, row in chunk.iterrows():\n",
    "        text = row['ТЕКСТ2']\n",
    "        if isinstance(text, str):\n",
    "            lemmatized_text = lemmatize_text(text)\n",
    "            df.at[i, 'ТЕКСТ3'] = lemmatized_text\n",
    "            \n",
    "      \n",
    "\n",
    "    \n",
    "def process_data_in_parallel(data, num_threads):               # распараллеливание процесса\n",
    "    chunk_size = len(data) // num_threads\n",
    "    chunks = [data.iloc[i:i+chunk_size] for i in range(0, len(data), chunk_size)]\n",
    "    with ThreadPoolExecutor(max_workers=num_threads) as executor:\n",
    "        executor.map(process_chunk, chunks)\n",
    "\n",
    "\n",
    "print(\"Lemmatizing text...\") \n",
    "process_data_in_parallel(df, 4)        # 4 - n - количество параллельных процессов\n",
    "print(' ')\n",
    "print(\"Successful!\")\n",
    "# сохранение измененного файла csv\n",
    "df.to_csv('COMMENTS_KALIN_LEMMATIZED.csv', sep=';')\n",
    "print(\"---------------------------------\")"
   ]
  },
  {
   "cell_type": "code",
   "execution_count": null,
   "id": "3e636571-6f47-4e48-97d8-ccb5288c2be7",
   "metadata": {},
   "outputs": [],
   "source": [
    "tokenizer = RegexTokenizer()\n",
    "model = FastTextSocialNetworkModel(tokenizer=tokenizer)\n",
    "print(\"Calculating tonalities...\")\n",
    "\n",
    "dat_text = df['ТЕКСТ2']\n",
    "results = model.predict(str(dat_text), k=3)\n",
    "\n",
    "print(\"Successful!\")\n",
    "print(\"---------------------------------\")"
   ]
  },
  {
   "cell_type": "code",
   "execution_count": null,
   "id": "acfa85ff-792d-4af9-8fdc-f4031298f21f",
   "metadata": {},
   "outputs": [],
   "source": [
    "df[['ПОЗИТИВНОСТЬ', 'НЕЙТРАЛЬНОСТЬ', 'НЕГАТИВНОСТЬ', 'СЕНТИМЕНТ', 'ТОНАЛЬНОСТЬ']] = 0\n",
    "numofrows = df.shape[0] #Количество строк в файле\n",
    "dat_text = list(df['ТЕКСТ2'])\n",
    "\n",
    "dat_pos = df['ПОЗИТИВНОСТЬ']\n",
    "dat_neu = df['НЕЙТРАЛЬНОСТЬ']\n",
    "dat_neg = df['НЕГАТИВНОСТЬ'] \n",
    "print(\"Saving results of prediction...\")"
   ]
  },
  {
   "cell_type": "code",
   "execution_count": null,
   "id": "26e65476-a402-4ce4-89ef-2a66c99ded96",
   "metadata": {},
   "outputs": [],
   "source": [
    "def process_row(i):\n",
    "    if type(dat_text[i]) is str:\n",
    "        try:\n",
    "            df.loc[i, 'ПОЗИТИВНОСТЬ'] = results[i]['positive']\n",
    "        except KeyError:\n",
    "            df.loc[i, 'ПОЗИТИВНОСТЬ'] = 0\n",
    "        try:\n",
    "            df.loc[i, 'НЕЙТРАЛЬНОСТЬ'] = results[i]['neutral']\n",
    "        except KeyError:\n",
    "            df.loc[i, 'НЕЙТРАЛЬНОСТЬ'] = 0\n",
    "        try:\n",
    "            df.loc[i, 'НЕГАТИВНОСТЬ'] = results[i]['negative']\n",
    "        except KeyError:\n",
    "            df.loc[i, 'НЕГАТИВНОСТЬ'] = 0\n",
    "    else:\n",
    "        df.loc[i, 'ПОЗИТИВНОСТЬ'] = 0\n",
    "        df.loc[i, 'НЕЙТРАЛЬНОСТЬ'] = 0\n",
    "        df.loc[i, 'НЕГАТИВНОСТЬ'] = 0\n",
    "\n",
    "    if (dat_pos[i] > dat_neu[i]) and (dat_pos[i] > dat_neg[i]):\n",
    "        df.loc[i, 'СЕНТИМЕНТ'] = 1\n",
    "        df.loc[i, 'ТОНАЛЬНОСТЬ'] = dat_pos[i]\n",
    "    elif (dat_neu[i] > dat_neg[i]):\n",
    "        df.loc[i, 'СЕНТИМЕНТ'] = 2\n",
    "        df.loc[i, 'ТОНАЛЬНОСТЬ'] = dat_neu[i]\n",
    "    else:\n",
    "        df.loc[i, 'СЕНТИМЕНТ'] = 3\n",
    "        df.loc[i, 'ТОНАЛЬНОСТЬ'] = dat_neg[i]\n",
    "        \n",
    "        \n",
    "with ThreadPoolExecutor(max_workers=4) as executor:\n",
    "    executor.map(process_row, range(numofrows))\n",
    "\n",
    "\n",
    "\n",
    "print(\"\\nSuccessful!\")\n",
    "print(\"---------------------------------\")"
   ]
  },
  {
   "cell_type": "code",
   "execution_count": null,
   "id": "faf61a6d-c639-4082-90be-efe8034e23fb",
   "metadata": {},
   "outputs": [],
   "source": [
    "print(df.head())"
   ]
  }
 ],
 "metadata": {
  "kernelspec": {
   "display_name": "Python 3 (ipykernel)",
   "language": "python",
   "name": "python3"
  },
  "language_info": {
   "codemirror_mode": {
    "name": "ipython",
    "version": 3
   },
   "file_extension": ".py",
   "mimetype": "text/x-python",
   "name": "python",
   "nbconvert_exporter": "python",
   "pygments_lexer": "ipython3",
   "version": "3.9.7"
  }
 },
 "nbformat": 4,
 "nbformat_minor": 5
}
