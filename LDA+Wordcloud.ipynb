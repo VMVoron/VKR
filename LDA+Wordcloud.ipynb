{
  "nbformat": 4,
  "nbformat_minor": 0,
  "metadata": {
    "colab": {
      "provenance": []
    },
    "kernelspec": {
      "name": "python3",
      "display_name": "Python 3"
    },
    "language_info": {
      "name": "python"
    },
    "widgets": {
      "application/vnd.jupyter.widget-state+json": {
        "90913b353177422e958d6f72771e174b": {
          "model_module": "@jupyter-widgets/controls",
          "model_name": "HBoxModel",
          "model_module_version": "1.5.0",
          "state": {
            "_dom_classes": [],
            "_model_module": "@jupyter-widgets/controls",
            "_model_module_version": "1.5.0",
            "_model_name": "HBoxModel",
            "_view_count": null,
            "_view_module": "@jupyter-widgets/controls",
            "_view_module_version": "1.5.0",
            "_view_name": "HBoxView",
            "box_style": "",
            "children": [
              "IPY_MODEL_af3c77b869ca421b9df2a1264460eb22",
              "IPY_MODEL_6de61a3bac994d479975857011620a22",
              "IPY_MODEL_3179b684f56244039374aa3446445522"
            ],
            "layout": "IPY_MODEL_0a96d599f29542598d340c3c9f123907"
          }
        },
        "af3c77b869ca421b9df2a1264460eb22": {
          "model_module": "@jupyter-widgets/controls",
          "model_name": "HTMLModel",
          "model_module_version": "1.5.0",
          "state": {
            "_dom_classes": [],
            "_model_module": "@jupyter-widgets/controls",
            "_model_module_version": "1.5.0",
            "_model_name": "HTMLModel",
            "_view_count": null,
            "_view_module": "@jupyter-widgets/controls",
            "_view_module_version": "1.5.0",
            "_view_name": "HTMLView",
            "description": "",
            "description_tooltip": null,
            "layout": "IPY_MODEL_149ecb2fc188451c8d59c8c52026ed2f",
            "placeholder": "​",
            "style": "IPY_MODEL_9756e3593da54c1396b5a037304b778d",
            "value": "100%"
          }
        },
        "6de61a3bac994d479975857011620a22": {
          "model_module": "@jupyter-widgets/controls",
          "model_name": "FloatProgressModel",
          "model_module_version": "1.5.0",
          "state": {
            "_dom_classes": [],
            "_model_module": "@jupyter-widgets/controls",
            "_model_module_version": "1.5.0",
            "_model_name": "FloatProgressModel",
            "_view_count": null,
            "_view_module": "@jupyter-widgets/controls",
            "_view_module_version": "1.5.0",
            "_view_name": "ProgressView",
            "bar_style": "success",
            "description": "",
            "description_tooltip": null,
            "layout": "IPY_MODEL_cf624762c733474eb39338289988ace7",
            "max": 3,
            "min": 0,
            "orientation": "horizontal",
            "style": "IPY_MODEL_0d63e3bba8424afba4f1a58ba504cafb",
            "value": 3
          }
        },
        "3179b684f56244039374aa3446445522": {
          "model_module": "@jupyter-widgets/controls",
          "model_name": "HTMLModel",
          "model_module_version": "1.5.0",
          "state": {
            "_dom_classes": [],
            "_model_module": "@jupyter-widgets/controls",
            "_model_module_version": "1.5.0",
            "_model_name": "HTMLModel",
            "_view_count": null,
            "_view_module": "@jupyter-widgets/controls",
            "_view_module_version": "1.5.0",
            "_view_name": "HTMLView",
            "description": "",
            "description_tooltip": null,
            "layout": "IPY_MODEL_90576b055faa4bb5bba2f60915a52599",
            "placeholder": "​",
            "style": "IPY_MODEL_e0f6176ec4bb4dd7be46b96f2778e511",
            "value": " 3/3 [12:17&lt;00:00, 242.08s/it]"
          }
        },
        "0a96d599f29542598d340c3c9f123907": {
          "model_module": "@jupyter-widgets/base",
          "model_name": "LayoutModel",
          "model_module_version": "1.2.0",
          "state": {
            "_model_module": "@jupyter-widgets/base",
            "_model_module_version": "1.2.0",
            "_model_name": "LayoutModel",
            "_view_count": null,
            "_view_module": "@jupyter-widgets/base",
            "_view_module_version": "1.2.0",
            "_view_name": "LayoutView",
            "align_content": null,
            "align_items": null,
            "align_self": null,
            "border": null,
            "bottom": null,
            "display": null,
            "flex": null,
            "flex_flow": null,
            "grid_area": null,
            "grid_auto_columns": null,
            "grid_auto_flow": null,
            "grid_auto_rows": null,
            "grid_column": null,
            "grid_gap": null,
            "grid_row": null,
            "grid_template_areas": null,
            "grid_template_columns": null,
            "grid_template_rows": null,
            "height": null,
            "justify_content": null,
            "justify_items": null,
            "left": null,
            "margin": null,
            "max_height": null,
            "max_width": null,
            "min_height": null,
            "min_width": null,
            "object_fit": null,
            "object_position": null,
            "order": null,
            "overflow": null,
            "overflow_x": null,
            "overflow_y": null,
            "padding": null,
            "right": null,
            "top": null,
            "visibility": null,
            "width": null
          }
        },
        "149ecb2fc188451c8d59c8c52026ed2f": {
          "model_module": "@jupyter-widgets/base",
          "model_name": "LayoutModel",
          "model_module_version": "1.2.0",
          "state": {
            "_model_module": "@jupyter-widgets/base",
            "_model_module_version": "1.2.0",
            "_model_name": "LayoutModel",
            "_view_count": null,
            "_view_module": "@jupyter-widgets/base",
            "_view_module_version": "1.2.0",
            "_view_name": "LayoutView",
            "align_content": null,
            "align_items": null,
            "align_self": null,
            "border": null,
            "bottom": null,
            "display": null,
            "flex": null,
            "flex_flow": null,
            "grid_area": null,
            "grid_auto_columns": null,
            "grid_auto_flow": null,
            "grid_auto_rows": null,
            "grid_column": null,
            "grid_gap": null,
            "grid_row": null,
            "grid_template_areas": null,
            "grid_template_columns": null,
            "grid_template_rows": null,
            "height": null,
            "justify_content": null,
            "justify_items": null,
            "left": null,
            "margin": null,
            "max_height": null,
            "max_width": null,
            "min_height": null,
            "min_width": null,
            "object_fit": null,
            "object_position": null,
            "order": null,
            "overflow": null,
            "overflow_x": null,
            "overflow_y": null,
            "padding": null,
            "right": null,
            "top": null,
            "visibility": null,
            "width": null
          }
        },
        "9756e3593da54c1396b5a037304b778d": {
          "model_module": "@jupyter-widgets/controls",
          "model_name": "DescriptionStyleModel",
          "model_module_version": "1.5.0",
          "state": {
            "_model_module": "@jupyter-widgets/controls",
            "_model_module_version": "1.5.0",
            "_model_name": "DescriptionStyleModel",
            "_view_count": null,
            "_view_module": "@jupyter-widgets/base",
            "_view_module_version": "1.2.0",
            "_view_name": "StyleView",
            "description_width": ""
          }
        },
        "cf624762c733474eb39338289988ace7": {
          "model_module": "@jupyter-widgets/base",
          "model_name": "LayoutModel",
          "model_module_version": "1.2.0",
          "state": {
            "_model_module": "@jupyter-widgets/base",
            "_model_module_version": "1.2.0",
            "_model_name": "LayoutModel",
            "_view_count": null,
            "_view_module": "@jupyter-widgets/base",
            "_view_module_version": "1.2.0",
            "_view_name": "LayoutView",
            "align_content": null,
            "align_items": null,
            "align_self": null,
            "border": null,
            "bottom": null,
            "display": null,
            "flex": null,
            "flex_flow": null,
            "grid_area": null,
            "grid_auto_columns": null,
            "grid_auto_flow": null,
            "grid_auto_rows": null,
            "grid_column": null,
            "grid_gap": null,
            "grid_row": null,
            "grid_template_areas": null,
            "grid_template_columns": null,
            "grid_template_rows": null,
            "height": null,
            "justify_content": null,
            "justify_items": null,
            "left": null,
            "margin": null,
            "max_height": null,
            "max_width": null,
            "min_height": null,
            "min_width": null,
            "object_fit": null,
            "object_position": null,
            "order": null,
            "overflow": null,
            "overflow_x": null,
            "overflow_y": null,
            "padding": null,
            "right": null,
            "top": null,
            "visibility": null,
            "width": null
          }
        },
        "0d63e3bba8424afba4f1a58ba504cafb": {
          "model_module": "@jupyter-widgets/controls",
          "model_name": "ProgressStyleModel",
          "model_module_version": "1.5.0",
          "state": {
            "_model_module": "@jupyter-widgets/controls",
            "_model_module_version": "1.5.0",
            "_model_name": "ProgressStyleModel",
            "_view_count": null,
            "_view_module": "@jupyter-widgets/base",
            "_view_module_version": "1.2.0",
            "_view_name": "StyleView",
            "bar_color": null,
            "description_width": ""
          }
        },
        "90576b055faa4bb5bba2f60915a52599": {
          "model_module": "@jupyter-widgets/base",
          "model_name": "LayoutModel",
          "model_module_version": "1.2.0",
          "state": {
            "_model_module": "@jupyter-widgets/base",
            "_model_module_version": "1.2.0",
            "_model_name": "LayoutModel",
            "_view_count": null,
            "_view_module": "@jupyter-widgets/base",
            "_view_module_version": "1.2.0",
            "_view_name": "LayoutView",
            "align_content": null,
            "align_items": null,
            "align_self": null,
            "border": null,
            "bottom": null,
            "display": null,
            "flex": null,
            "flex_flow": null,
            "grid_area": null,
            "grid_auto_columns": null,
            "grid_auto_flow": null,
            "grid_auto_rows": null,
            "grid_column": null,
            "grid_gap": null,
            "grid_row": null,
            "grid_template_areas": null,
            "grid_template_columns": null,
            "grid_template_rows": null,
            "height": null,
            "justify_content": null,
            "justify_items": null,
            "left": null,
            "margin": null,
            "max_height": null,
            "max_width": null,
            "min_height": null,
            "min_width": null,
            "object_fit": null,
            "object_position": null,
            "order": null,
            "overflow": null,
            "overflow_x": null,
            "overflow_y": null,
            "padding": null,
            "right": null,
            "top": null,
            "visibility": null,
            "width": null
          }
        },
        "e0f6176ec4bb4dd7be46b96f2778e511": {
          "model_module": "@jupyter-widgets/controls",
          "model_name": "DescriptionStyleModel",
          "model_module_version": "1.5.0",
          "state": {
            "_model_module": "@jupyter-widgets/controls",
            "_model_module_version": "1.5.0",
            "_model_name": "DescriptionStyleModel",
            "_view_count": null,
            "_view_module": "@jupyter-widgets/base",
            "_view_module_version": "1.2.0",
            "_view_name": "StyleView",
            "description_width": ""
          }
        }
      }
    }
  },
  "cells": [
    {
      "cell_type": "code",
      "source": [
        "!pip install pymorphy2"
      ],
      "metadata": {
        "colab": {
          "base_uri": "https://localhost:8080/"
        },
        "id": "4A8INVmoyqk2",
        "outputId": "e566dd5f-eeba-49e0-d1e9-cd2f29e0db36"
      },
      "execution_count": null,
      "outputs": [
        {
          "output_type": "stream",
          "name": "stdout",
          "text": [
            "Looking in indexes: https://pypi.org/simple, https://us-python.pkg.dev/colab-wheels/public/simple/\n",
            "Collecting pymorphy2\n",
            "  Downloading pymorphy2-0.9.1-py3-none-any.whl (55 kB)\n",
            "\u001b[2K     \u001b[90m━━━━━━━━━━━━━━━━━━━━━━━━━━━━━━━━━━━━━━━━\u001b[0m \u001b[32m55.5/55.5 kB\u001b[0m \u001b[31m2.5 MB/s\u001b[0m eta \u001b[36m0:00:00\u001b[0m\n",
            "\u001b[?25hCollecting dawg-python>=0.7.1 (from pymorphy2)\n",
            "  Downloading DAWG_Python-0.7.2-py2.py3-none-any.whl (11 kB)\n",
            "Collecting pymorphy2-dicts-ru<3.0,>=2.4 (from pymorphy2)\n",
            "  Downloading pymorphy2_dicts_ru-2.4.417127.4579844-py2.py3-none-any.whl (8.2 MB)\n",
            "\u001b[2K     \u001b[90m━━━━━━━━━━━━━━━━━━━━━━━━━━━━━━━━━━━━━━━━\u001b[0m \u001b[32m8.2/8.2 MB\u001b[0m \u001b[31m29.2 MB/s\u001b[0m eta \u001b[36m0:00:00\u001b[0m\n",
            "\u001b[?25hCollecting docopt>=0.6 (from pymorphy2)\n",
            "  Downloading docopt-0.6.2.tar.gz (25 kB)\n",
            "  Preparing metadata (setup.py) ... \u001b[?25l\u001b[?25hdone\n",
            "Building wheels for collected packages: docopt\n",
            "  Building wheel for docopt (setup.py) ... \u001b[?25l\u001b[?25hdone\n",
            "  Created wheel for docopt: filename=docopt-0.6.2-py2.py3-none-any.whl size=13707 sha256=08a4c0fab5d70434ea923dd44e6096e9442543da210d563da1dcd030a9ac9a94\n",
            "  Stored in directory: /root/.cache/pip/wheels/fc/ab/d4/5da2067ac95b36618c629a5f93f809425700506f72c9732fac\n",
            "Successfully built docopt\n",
            "Installing collected packages: pymorphy2-dicts-ru, docopt, dawg-python, pymorphy2\n",
            "Successfully installed dawg-python-0.7.2 docopt-0.6.2 pymorphy2-0.9.1 pymorphy2-dicts-ru-2.4.417127.4579844\n"
          ]
        }
      ]
    },
    {
      "cell_type": "code",
      "execution_count": null,
      "metadata": {
        "colab": {
          "base_uri": "https://localhost:8080/"
        },
        "id": "ympMl2x4yoJB",
        "outputId": "07081dc4-f000-41d3-ff71-0d41c1605c27"
      },
      "outputs": [
        {
          "output_type": "stream",
          "name": "stderr",
          "text": [
            "[nltk_data] Downloading package stopwords to /root/nltk_data...\n",
            "[nltk_data]   Package stopwords is already up-to-date!\n",
            "[nltk_data] Downloading package punkt to /root/nltk_data...\n",
            "[nltk_data]   Package punkt is already up-to-date!\n"
          ]
        },
        {
          "output_type": "execute_result",
          "data": {
            "text/plain": [
              "True"
            ]
          },
          "metadata": {},
          "execution_count": 1
        }
      ],
      "source": [
        "\n",
        "import nltk\n",
        "from nltk.corpus import stopwords\n",
        "\n",
        "import re\n",
        "import pymorphy2\n",
        "\n",
        "import itertools\n",
        "\n",
        "\n",
        "\n",
        "import matplotlib.pyplot as plt\n",
        "import seaborn as sns\n",
        "\n",
        "\n",
        "import gensim\n",
        "from gensim.models import CoherenceModel\n",
        "import gensim.corpora as corpora\n",
        "from tqdm import tqdm_notebook\n",
        "\n",
        "import warnings\n",
        "\n",
        "warnings.filterwarnings('ignore')\n",
        "\n",
        "RAND = 10\n",
        "\n",
        "nltk.download('stopwords')\n",
        "nltk.download('punkt')"
      ]
    },
    {
      "cell_type": "code",
      "source": [
        "import pandas as pd\n",
        "import numpy as np\n"
      ],
      "metadata": {
        "id": "KgXVtgTbz_A8"
      },
      "execution_count": null,
      "outputs": []
    },
    {
      "cell_type": "code",
      "source": [
        "dfcolumns = pd.read_csv('fu3.csv', nrows = 1, delimiter=';', encoding = 'UTF-8')"
      ],
      "metadata": {
        "id": "AIepNiAwyrk7"
      },
      "execution_count": null,
      "outputs": []
    },
    {
      "cell_type": "code",
      "source": [
        "df = pd.read_csv('fu3.csv',\n",
        "                  header = None,\n",
        "                  delimiter=';',\n",
        "                  skiprows = 1,\n",
        "                  encoding='UTF-8',\n",
        "                  usecols = list(range(len(dfcolumns.columns))),\n",
        "                  names = dfcolumns.columns)"
      ],
      "metadata": {
        "id": "Y2q_6CIvy_p7"
      },
      "execution_count": null,
      "outputs": []
    },
    {
      "cell_type": "code",
      "source": [
        "df['TEXT3'][0]"
      ],
      "metadata": {
        "colab": {
          "base_uri": "https://localhost:8080/",
          "height": 157
        },
        "id": "NIKtLk1LzBRa",
        "outputId": "933b2c01-2793-4437-a75e-a2110f51c3de"
      },
      "execution_count": null,
      "outputs": [
        {
          "output_type": "execute_result",
          "data": {
            "text/plain": [
              "'блиндажный окопный свеча настоящий спасение тот оказываться экстремальный условие глава мо захаров вместе сотрудник мо остров декабрист учащийся кадетский класс юнармеец учитель гбоу сош василеостровский район спб заниматься изготовление именно такой свеча несколько день очень особенный каждый свеча который сделать надежда наш ребята полевой условие каждый свеча вкладывать забота тепло родной дом прокомментировать захаров каждый такой свеча способный обеспечивать освещение локальный обогрев рука протяжение часы также разогрев жидкость пища становиться решающий фактор критический ситуация каждый минута счет помнить наш защитник стараться сделать возможный помогать трудный момент человек который находиться зона специальный военный операция нуждаться наш поддержка забота именно поэтому хотеть передавать частичка тепло уют родной дом присоединяться проект тепло родной дом нужный помощь сво своихнебросать остров декабрист главамо теплородногодом дом администрация'"
            ],
            "application/vnd.google.colaboratory.intrinsic+json": {
              "type": "string"
            }
          },
          "metadata": {},
          "execution_count": 5
        }
      ]
    },
    {
      "cell_type": "code",
      "source": [
        "X_train = df['TEXT3']\n",
        "train_lst = X_train "
      ],
      "metadata": {
        "id": "m5EzXDZO0S70"
      },
      "execution_count": null,
      "outputs": []
    },
    {
      "cell_type": "code",
      "source": [
        "from sklearn.feature_extraction.text import CountVectorizer\n",
        "from sklearn.decomposition import LatentDirichletAllocation\n",
        "from sklearn.model_selection import GridSearchCV, train_test_split"
      ],
      "metadata": {
        "id": "RV9O8TCXzNZY"
      },
      "execution_count": null,
      "outputs": []
    },
    {
      "cell_type": "code",
      "source": [
        "print(\"Log Likelihood: \", lda_model_ben.score(train_vec_ben))\n",
        "# Перплексия - сложность. чем ниже, тем лучше\n",
        "print(\"Perplexity: \", lda_model_ben.perplexity(train_vec_ben))"
      ],
      "metadata": {
        "colab": {
          "base_uri": "https://localhost:8080/"
        },
        "id": "jtc8PC1jzmUZ",
        "outputId": "c8356cf5-8d19-4aac-a0bf-d3ce7991a073"
      },
      "execution_count": null,
      "outputs": [
        {
          "output_type": "stream",
          "name": "stdout",
          "text": [
            "Log Likelihood:  -14201279.95342938\n",
            "Perplexity:  3945.3452266022155\n"
          ]
        }
      ]
    },
    {
      "cell_type": "code",
      "source": [
        "doc = train_lst"
      ],
      "metadata": {
        "id": "JtUB2FOY2ER1"
      },
      "execution_count": null,
      "outputs": []
    },
    {
      "cell_type": "code",
      "execution_count": null,
      "metadata": {
        "id": "380cc8e8"
      },
      "outputs": [],
      "source": [
        "# https://stackoverflow.com/questions/60613532/how-do-i-calculate-the-coherence-score-of-an-sklearn-lda-model\n",
        "\n",
        "def get_coherence_mean(model, texts, n_top_words=20):\n",
        "    \"\"\"Получение средней оценки когерентности\"\"\"\n",
        "    \n",
        "    # кол-во тем\n",
        "    topics = model.components_\n",
        "    \n",
        "    # получение токенов\n",
        "    texts = [[word for word in doc.split()] for doc in texts]\n",
        "    # создание словаря с использованием gensim\n",
        "    dictionary = corpora.Dictionary(texts)\n",
        "\n",
        "    # Корпус на основе матрицы подсчета слов\n",
        "    corpus = [dictionary.doc2bow(text) for text in texts]\n",
        "\n",
        "    feature_names = [dictionary[i] for i in range(len(dictionary))]\n",
        "\n",
        "    # Получение ТОП-слов для каждой темы\n",
        "    top_words = []\n",
        "    for topic in topics:\n",
        "        top_words.append(\n",
        "            [feature_names[i] for i in topic.argsort()[:-n_top_words - 1:-1]])\n",
        "\n",
        "    coherence_model = CoherenceModel(topics=top_words,\n",
        "                                     texts=texts,\n",
        "                                     dictionary=dictionary,\n",
        "                                     coherence='c_v')\n",
        "    coherence = coherence_model.get_coherence()\n",
        "    return coherence"
      ]
    },
    {
      "cell_type": "code",
      "source": [
        "texts = [[word for word in doc.split()] for doc in train_lst]\n",
        "dictionary = corpora.Dictionary(texts)"
      ],
      "metadata": {
        "id": "h3qqojsI2NhW"
      },
      "execution_count": null,
      "outputs": []
    },
    {
      "cell_type": "code",
      "source": [
        "get_coherence_mean(lda_model_ben, train_lst)"
      ],
      "metadata": {
        "colab": {
          "base_uri": "https://localhost:8080/"
        },
        "id": "3YkvgXQM2YIm",
        "outputId": "64e4b70c-2c9e-448d-fc14-5e209ab2c4b2"
      },
      "execution_count": null,
      "outputs": [
        {
          "output_type": "execute_result",
          "data": {
            "text/plain": [
              "0.6920033378538908"
            ]
          },
          "metadata": {},
          "execution_count": 27
        }
      ]
    },
    {
      "cell_type": "code",
      "source": [
        "def compute_coherence_values(vec_train_text,\n",
        "                             test_text,\n",
        "                             min_topic=2,\n",
        "                             max_topic=40,\n",
        "                             step=5):\n",
        "    \"\"\"Вычисление оценок в зависимости от кол-ва тематик\"\"\"\n",
        "    \n",
        "    coherence_values = []\n",
        "    model_list = []\n",
        "\n",
        "    for num_topics in tqdm_notebook(range(min_topic, max_topic, step)):\n",
        "        model = LatentDirichletAllocation(\n",
        "            max_iter=10,\n",
        "            n_components=num_topics,\n",
        "            learning_method='online',\n",
        "            random_state=RAND,\n",
        "            n_jobs=-1,\n",
        "        )\n",
        "        model.fit(vec_train_text)\n",
        "\n",
        "        model_list.append(model)\n",
        "        coherence_values.append(get_coherence_mean(model, test_text))\n",
        "\n",
        "    return model_list, coherence_values"
      ],
      "metadata": {
        "id": "S33sbuNA2dqK"
      },
      "execution_count": null,
      "outputs": []
    },
    {
      "cell_type": "code",
      "source": [
        "min_topic = 12\n",
        "max_topic = 15\n",
        "step = 1\n",
        "\n",
        "model_list, coherence_values = compute_coherence_values(vec_train_text=train_vec_ben,\n",
        "                                                        test_text=train_lst,\n",
        "                                                        min_topic=min_topic,\n",
        "                                                        max_topic=max_topic,\n",
        "                                                        step=step)"
      ],
      "metadata": {
        "colab": {
          "base_uri": "https://localhost:8080/",
          "height": 49,
          "referenced_widgets": [
            "90913b353177422e958d6f72771e174b",
            "af3c77b869ca421b9df2a1264460eb22",
            "6de61a3bac994d479975857011620a22",
            "3179b684f56244039374aa3446445522",
            "0a96d599f29542598d340c3c9f123907",
            "149ecb2fc188451c8d59c8c52026ed2f",
            "9756e3593da54c1396b5a037304b778d",
            "cf624762c733474eb39338289988ace7",
            "0d63e3bba8424afba4f1a58ba504cafb",
            "90576b055faa4bb5bba2f60915a52599",
            "e0f6176ec4bb4dd7be46b96f2778e511"
          ]
        },
        "id": "Z_Kc03-22gbk",
        "outputId": "ef61cb48-5acb-4ec4-f290-f009fb339c47"
      },
      "execution_count": null,
      "outputs": [
        {
          "output_type": "display_data",
          "data": {
            "text/plain": [
              "  0%|          | 0/3 [00:00<?, ?it/s]"
            ],
            "application/vnd.jupyter.widget-view+json": {
              "version_major": 2,
              "version_minor": 0,
              "model_id": "90913b353177422e958d6f72771e174b"
            }
          },
          "metadata": {}
        }
      ]
    },
    {
      "cell_type": "code",
      "source": [
        "x = range(min_topic, max_topic, step)\n",
        "\n",
        "plt.figure(figsize=(15, 7))\n",
        "\n",
        "plt.plot(x, coherence_values)\n",
        "plt.xlabel(\"Num Topics\")\n",
        "plt.ylabel(\"Coherence score\")\n",
        "\n",
        "plt.show()"
      ],
      "metadata": {
        "colab": {
          "base_uri": "https://localhost:8080/",
          "height": 519
        },
        "id": "k9pBrmTk2kXD",
        "outputId": "bfe12d8f-5ac7-4357-d5aa-e0121b2180a3"
      },
      "execution_count": null,
      "outputs": [
        {
          "output_type": "display_data",
          "data": {
            "text/plain": [
              "<Figure size 1500x700 with 1 Axes>"
            ],
            "image/png": "[encoded data removed]"
          },
          "metadata": {}
        }
      ]
    },
    {
      "cell_type": "code",
      "source": [
        "for n_topics, coherence in zip(x, coherence_values):\n",
        "    print(f\"Num Topics = {n_topics}, Coherence = {coherence:.3f}\")"
      ],
      "metadata": {
        "colab": {
          "base_uri": "https://localhost:8080/"
        },
        "id": "7lmRgwGs23qI",
        "outputId": "362e4d50-f7d4-4516-b3a9-439afa35f5ed"
      },
      "execution_count": null,
      "outputs": [
        {
          "output_type": "stream",
          "name": "stdout",
          "text": [
            "Num Topics = 5, Coherence = 0.697\n",
            "Num Topics = 6, Coherence = 0.694\n",
            "Num Topics = 7, Coherence = 0.702\n"
          ]
        }
      ]
    },
    {
      "cell_type": "code",
      "source": [
        "x = range(min_topic, max_topic, step)\n",
        "\n",
        "plt.figure(figsize=(15, 7))\n",
        "\n",
        "plt.plot(x, coherence_values)\n",
        "plt.xlabel(\"Num Topics\")\n",
        "plt.ylabel(\"Coherence score\")\n",
        "\n",
        "plt.show()"
      ],
      "metadata": {
        "colab": {
          "base_uri": "https://localhost:8080/",
          "height": 519
        },
        "id": "3lK23uMz8NJF",
        "outputId": "35aabf5a-c1de-4068-a46d-f0562b7b17e4"
      },
      "execution_count": null,
      "outputs": [
        {
          "output_type": "display_data",
          "data": {
            "text/plain": [
              "<Figure size 1500x700 with 1 Axes>"
            ],
            "image/png": "[encoded data removed]"
          },
          "metadata": {}
        }
      ]
    },
    {
      "cell_type": "code",
      "source": [
        "for n_topics, coherence in zip(x, coherence_values):\n",
        "    print(f\"Num Topics = {n_topics}, Coherence = {coherence:.3f}\")"
      ],
      "metadata": {
        "colab": {
          "base_uri": "https://localhost:8080/"
        },
        "id": "k-PA93TH8OHw",
        "outputId": "14967417-752f-4038-dcb0-1b10016c4e76"
      },
      "execution_count": null,
      "outputs": [
        {
          "output_type": "stream",
          "name": "stdout",
          "text": [
            "Num Topics = 9, Coherence = 0.690\n",
            "Num Topics = 10, Coherence = 0.692\n",
            "Num Topics = 11, Coherence = 0.684\n"
          ]
        }
      ]
    },
    {
      "cell_type": "code",
      "source": [
        "x = range(min_topic, max_topic, step)\n",
        "\n",
        "plt.figure(figsize=(15, 7))\n",
        "\n",
        "plt.plot(x, coherence_values)\n",
        "plt.xlabel(\"Num Topics\")\n",
        "plt.ylabel(\"Coherence score\")\n",
        "\n",
        "plt.show()"
      ],
      "metadata": {
        "colab": {
          "base_uri": "https://localhost:8080/",
          "height": 519
        },
        "id": "Jbv5u09_-5ts",
        "outputId": "5944d62b-bff6-4de1-d9d9-cd36667859ee"
      },
      "execution_count": null,
      "outputs": [
        {
          "output_type": "display_data",
          "data": {
            "text/plain": [
              "<Figure size 1500x700 with 1 Axes>"
            ],
            "image/png": "[encoded data removed]"
          },
          "metadata": {}
        }
      ]
    },
    {
      "cell_type": "code",
      "source": [
        "for n_topics, coherence in zip(x, coherence_values):\n",
        "    print(f\"Num Topics = {n_topics}, Coherence = {coherence:.3f}\")"
      ],
      "metadata": {
        "colab": {
          "base_uri": "https://localhost:8080/"
        },
        "id": "s1MaGWFZ-7F7",
        "outputId": "cda08cf3-5575-4dc1-ea2e-4774ab7326a4"
      },
      "execution_count": null,
      "outputs": [
        {
          "output_type": "stream",
          "name": "stdout",
          "text": [
            "Num Topics = 12, Coherence = 0.696\n",
            "Num Topics = 13, Coherence = 0.693\n",
            "Num Topics = 14, Coherence = 0.690\n"
          ]
        }
      ]
    },
    {
      "cell_type": "code",
      "source": [
        "get_coherence_mean(lda_model_ben, train_lst)"
      ],
      "metadata": {
        "colab": {
          "base_uri": "https://localhost:8080/"
        },
        "id": "8yMms7-I3EMp",
        "outputId": "01a7f4da-ade9-479e-9f87-d1a021b6386f"
      },
      "execution_count": null,
      "outputs": [
        {
          "output_type": "execute_result",
          "data": {
            "text/plain": [
              "0.7007253620016911"
            ]
          },
          "metadata": {},
          "execution_count": 43
        }
      ]
    },
    {
      "cell_type": "code",
      "source": [
        "morph = pymorphy2.MorphAnalyzer()"
      ],
      "metadata": {
        "id": "7-ezISo8GIEo"
      },
      "execution_count": null,
      "outputs": []
    },
    {
      "cell_type": "code",
      "source": [
        "def preprocess_text(data, stopwords='/content/drive/MyDrive/диплом/stopwords.txt'):\n",
        "    \"\"\"Очистка текста и удаление стоп-слов\"\"\"\n",
        "\n",
        "    text = re.sub('ё', 'е', data.lower())\n",
        "    # добавляем пробелы между знаками препинания\n",
        "    text = re.sub(r\"([.,!?])\", r\" \\1 \", text)\n",
        "    # убираем лишние символы, оставляем буквы, пробелы и зн.пр.\n",
        "    text = re.sub(r\"[^а-яА-Я\\s]+\", \"\", text)\n",
        "    # удаляем пробелы в начале и в конце предложения\n",
        "    text = text.strip()\n",
        "    # удаление стоп-слов\n",
        "    text = [w for w in text.split() if w not in stopwords]\n",
        "    # удаляем слова короче 3х символов\n",
        "    text = [w for w in text if len(w) >= 3]\n",
        "    return ' '.join(text)\n",
        "\n",
        "\n",
        "def lemmatization_text(data, morph=morph):\n",
        "    \"\"\"Приведение слов к нормальной форме\"\"\"\n",
        "    \n",
        "    result = ' '.join([morph.parse(x)[0].normal_form for x in data.split()])\n",
        "    result = ' '.join(\n",
        "        [x for x in result.split() if x not in ['монитор', 'экран', 'очень']])\n",
        "    return result\n",
        "\n",
        "\n",
        "def get_result(data, morph=morph, stopwords='/content/drive/MyDrive/диплом/stopwords.txt'):\n",
        "    \"\"\"\n",
        "    Объединение очистки текста, приведения слов \n",
        "    к нормальной форме и токенизации\n",
        "    \"\"\"\n",
        "\n",
        "    if data is not np.NaN:\n",
        "        result = preprocess_text(data=data)\n",
        "        result = lemmatization_text(result)\n",
        "        result = result.replace('больший', 'большой')\n",
        "        return result\n",
        "    return ''"
      ],
      "metadata": {
        "id": "qv_fu7N1HSyr"
      },
      "execution_count": null,
      "outputs": []
    },
    {
      "cell_type": "code",
      "source": [
        "def transform_data(data: pd.Series) -> list:\n",
        "    transform_lst = [get_result(data=i) for i in data]\n",
        "    transform_lst = [x for x in transform_lst if x not in [None, '']]\n",
        "    return transform_lst\n",
        "\n",
        "\n",
        "# обработка положительных отзывов\n",
        "train_lst = transform_data(X_train)"
      ],
      "metadata": {
        "id": "me7EDPsJHIpq"
      },
      "execution_count": null,
      "outputs": []
    },
    {
      "cell_type": "code",
      "source": [
        "train_lst[:3]"
      ],
      "metadata": {
        "colab": {
          "base_uri": "https://localhost:8080/"
        },
        "id": "WbgWM8kSJLK_",
        "outputId": "c9fa09e9-481b-4cef-8f4e-f052982f1c03"
      },
      "execution_count": null,
      "outputs": [
        {
          "output_type": "execute_result",
          "data": {
            "text/plain": [
              "['блиндажный окопный свеча настоящий спасение тот оказываться экстремальный условие глава захаров вместе сотрудник остров декабрист учиться кадетский класс юнармеец учитель гбоу сош василеостровский район спб заниматься изготовление именно такой свеча несколько день особенный каждый свеча который сделать надежда наш ребята полевой условие каждый свеча вкладывать забота тепло родный дом прокомментировать захаров каждый такой свеча способный обеспечивать освещение локальный обогрев рука протяжение часы также разогреть жидкость пища становиться решающий фактор критический ситуация каждый минута счёт помнить наш защитник стараться сделать возможный помогать трудный момент человек который находиться зона специальный военный операция нуждаться наш поддержка забота именно поэтому хотеть передавать частичка тепло уют родный дом присоединяться проект тепло родный дом нужный помощь сво своихнебросать остров декабрист главамо теплородногод дом администрация',\n",
              " 'восхитительный вид успенский церковь васильевский остров фото',\n",
              " 'отмечать рождение депутат законодательный собрание петербург председатель комиссия социальный политика здравоохранение николаевич ржаненков лицо муниципальный образование смольнинский поздравлять день рождение присоединяться весь важный слово который звучать ваш адрес желать крепкий здоровье душевный гармония оптимизм счастие добро благополучие ваш близкий смольнинский смольнинский смольнинскоть мосмольнинский смольнинский ранк кадр день смольнинский проходить мимо смольнинский']"
            ]
          },
          "metadata": {},
          "execution_count": 12
        }
      ]
    },
    {
      "cell_type": "code",
      "source": [
        "# Подсчитаем кол-во слов в предложениях (составление терм-документной матрицы)\n",
        "vector_ben = CountVectorizer(\n",
        "    analyzer='word',\n",
        "    # min_df - частота встречаемого термина < 10\n",
        "    min_df=10,\n",
        "    # биграммы, триграммы\n",
        "    ngram_range=(1, 1),\n",
        "    stop_words=stopwords.words(\"russian\"))\n",
        "train_vec_ben = vector_ben.fit_transform(train_lst)"
      ],
      "metadata": {
        "id": "QZwK0jCQJPs9"
      },
      "execution_count": null,
      "outputs": []
    },
    {
      "cell_type": "code",
      "source": [
        "vector_ben.get_feature_names_out()"
      ],
      "metadata": {
        "colab": {
          "base_uri": "https://localhost:8080/"
        },
        "id": "PqBnnxlDJV3d",
        "outputId": "7570a859-3fea-4be7-81d3-00cadf37deca"
      },
      "execution_count": null,
      "outputs": [
        {
          "output_type": "execute_result",
          "data": {
            "text/plain": [
              "array(['абзац', 'абитуриент', 'абонемент', ..., 'ёлочка', 'ёлочный',\n",
              "       'ёмкость'], dtype=object)"
            ]
          },
          "metadata": {},
          "execution_count": 14
        }
      ]
    },
    {
      "cell_type": "code",
      "source": [
        "texts = [[word for word in doc.split()] for doc in train_lst]\n",
        "dictionary = corpora.Dictionary(texts)"
      ],
      "metadata": {
        "id": "pCYnHm-_Jylq"
      },
      "execution_count": null,
      "outputs": []
    },
    {
      "cell_type": "code",
      "source": [
        "# Модель латентного размещения Дирихле\n",
        "lda_model_ben = LatentDirichletAllocation(\n",
        "    # кол-во тем\n",
        "    n_components=10,\n",
        "    max_iter=15,\n",
        "    learning_method='online',\n",
        "    random_state=RAND,\n",
        "    n_jobs=-1,\n",
        ")\n",
        "lda_model_ben.fit(train_vec_ben)\n",
        "print(lda_model_ben)"
      ],
      "metadata": {
        "colab": {
          "base_uri": "https://localhost:8080/"
        },
        "id": "xN3wXVQU26nv",
        "outputId": "6efa529e-06af-439d-b249-92d35cb95110"
      },
      "execution_count": null,
      "outputs": [
        {
          "output_type": "stream",
          "name": "stdout",
          "text": [
            "LatentDirichletAllocation(learning_method='online', max_iter=15, n_jobs=-1,\n",
            "                          random_state=10)\n"
          ]
        }
      ]
    },
    {
      "cell_type": "code",
      "source": [
        "train_vec_ben[0]"
      ],
      "metadata": {
        "colab": {
          "base_uri": "https://localhost:8080/"
        },
        "id": "KzblXGkXQhBG",
        "outputId": "adaac94a-206a-4478-c401-0a77af8ccbe5"
      },
      "execution_count": null,
      "outputs": [
        {
          "output_type": "execute_result",
          "data": {
            "text/plain": [
              "<1x13536 sparse matrix of type '<class 'numpy.int64'>'\n",
              "\twith 87 stored elements in Compressed Sparse Row format>"
            ]
          },
          "metadata": {},
          "execution_count": 17
        }
      ]
    },
    {
      "cell_type": "code",
      "source": [
        "# https://stackoverflow.com/questions/60613532/how-do-i-calculate-the-coherence-score-of-an-sklearn-lda-model\n",
        "\n",
        "def get_coherence_mean(model, texts, n_top_words=20):\n",
        "    \"\"\"Получение средней оценки когерентности\"\"\"\n",
        "    \n",
        "    # кол-во тем\n",
        "    topics = model.components_\n",
        "    \n",
        "    # получение токенов\n",
        "    texts = [[word for word in doc.split()] for doc in texts]\n",
        "    # создание словаря с использованием gensim\n",
        "    dictionary = corpora.Dictionary(texts)\n",
        "\n",
        "    # Корпус на основе матрицы подсчета слов\n",
        "    corpus = [dictionary.doc2bow(text) for text in texts]\n",
        "\n",
        "    feature_names = [dictionary[i] for i in range(len(dictionary))]\n",
        "\n",
        "    # Получение ТОП-слов для каждой темы\n",
        "    top_words = []\n",
        "    for topic in topics:\n",
        "        top_words.append(\n",
        "            [feature_names[i] for i in topic.argsort()[:-n_top_words - 1:-1]])\n",
        "\n",
        "    coherence_model = CoherenceModel(topics=top_words,\n",
        "                                     texts=texts,\n",
        "                                     dictionary=dictionary,\n",
        "                                     coherence='c_v')\n",
        "    coherence = coherence_model.get_coherence()\n",
        "    return coherence"
      ],
      "metadata": {
        "id": "IZoHKXqMWnmj"
      },
      "execution_count": null,
      "outputs": []
    },
    {
      "cell_type": "code",
      "source": [
        "get_coherence_mean(lda_model_ben, train_lst)"
      ],
      "metadata": {
        "colab": {
          "base_uri": "https://localhost:8080/"
        },
        "id": "c1hv4o9bWhQY",
        "outputId": "bcb0cbed-2c9b-4955-b792-ae4740cb82b4"
      },
      "execution_count": null,
      "outputs": [
        {
          "output_type": "execute_result",
          "data": {
            "text/plain": [
              "0.6705352436318833"
            ]
          },
          "metadata": {},
          "execution_count": 22
        }
      ]
    },
    {
      "cell_type": "code",
      "source": [
        "def predict_topic(data, vectorizer=vector_ben, model=lda_model_ben):\n",
        "    \n",
        "    transform_text = get_result(data)\n",
        "    vec_text = vectorizer.transform([transform_text])\n",
        "    topic_proba = model.transform(vec_text)[0]\n",
        "    \n",
        "    if np.all(topic_proba == topic_proba[0]) == True:\n",
        "        return -9\n",
        "    return np.argmax(topic_proba)"
      ],
      "metadata": {
        "id": "KroexKQ6FIVb"
      },
      "execution_count": null,
      "outputs": []
    },
    {
      "cell_type": "code",
      "source": [
        "df['top_topic'] = df.TEXT3.transform(predict_topic)"
      ],
      "metadata": {
        "id": "LHIZZ-f0Uj-e"
      },
      "execution_count": null,
      "outputs": []
    },
    {
      "cell_type": "code",
      "source": [
        "df[:5]"
      ],
      "metadata": {
        "colab": {
          "base_uri": "https://localhost:8080/",
          "height": 352
        },
        "id": "5nVkuoKiW-zy",
        "outputId": "1f36d4ca-5ad4-4ecd-b92a-150ba33d4bf3"
      },
      "execution_count": null,
      "outputs": [
        {
          "output_type": "execute_result",
          "data": {
            "text/plain": [
              "      ID      TYPE SUBTYPE  FOLLOWERS  SIMILAR_AUTHOR              DATE   \n",
              "0   4975  official    muni       6336               1        04.04.2023  \\\n",
              "1  17815    public    dist       2405               1        17.04.2023   \n",
              "2  17143    public   deput        323               1  23.01.2023 11:11   \n",
              "3  17114    public   deput        323               1  21.03.2023 16:42   \n",
              "4  17209    public   deput        323               1  03.11.2022 19:09   \n",
              "\n",
              "       TIME  LIKES  REPOSTS  COMMENTS  ...  EMOTIONALITY_FULL   \n",
              "0  12:00:00   2083     1548        16  ...   ,395933473646641  \\\n",
              "1  17:20:00   1202       79        30  ...   ,168071349978447   \n",
              "2  11:11:00    131        0        15  ...   ,072300602287054   \n",
              "3  16:42:00    103       11         3  ...   ,238079427540303   \n",
              "4  19:09:00    122        3         1  ...   ,249305821067698   \n",
              "\n",
              "   INTONATION_COMMENT      INTONATION_POST    INTONATION_FULL   \n",
              "0    ,168000473006278  ,000785545954438335  ,0843930094803583  \\\n",
              "1   ,0307668159112038                    0  ,0153834079556019   \n",
              "2     ,25536825696046    ,0032258064516129   ,129297031706036   \n",
              "3     ,69700490655734  ,000930232558139535    ,34896756955774   \n",
              "4                       ,00500834724540902                      \n",
              "\n",
              "        IMPERATIV_POST  TIME_MIDNIGHT  FUNCTION2  TSC_3988  REG  top_topic  \n",
              "0  ,000785545954438335            720          1         1    1          7  \n",
              "1                    0           1040          1         1    1          7  \n",
              "2                    0            671          1         1    1          8  \n",
              "3                    0           1002          1         1    1          8  \n",
              "4                    0           1149          1         1    1          7  \n",
              "\n",
              "[5 rows x 65 columns]"
            ],
            "text/html": [
              "\n",
              "  <div id=\"df-2deb8573-cd4d-4338-b6d2-134182a532db\">\n",
              "    <div class=\"colab-df-container\">\n",
              "      <div>\n",
              "<style scoped>\n",
              "    .dataframe tbody tr th:only-of-type {\n",
              "        vertical-align: middle;\n",
              "    }\n",
              "\n",
              "    .dataframe tbody tr th {\n",
              "        vertical-align: top;\n",
              "    }\n",
              "\n",
              "    .dataframe thead th {\n",
              "        text-align: right;\n",
              "    }\n",
              "</style>\n",
              "<table border=\"1\" class=\"dataframe\">\n",
              "  <thead>\n",
              "    <tr style=\"text-align: right;\">\n",
              "      <th></th>\n",
              "      <th>ID</th>\n",
              "      <th>TYPE</th>\n",
              "      <th>SUBTYPE</th>\n",
              "      <th>FOLLOWERS</th>\n",
              "      <th>SIMILAR_AUTHOR</th>\n",
              "      <th>DATE</th>\n",
              "      <th>TIME</th>\n",
              "      <th>LIKES</th>\n",
              "      <th>REPOSTS</th>\n",
              "      <th>COMMENTS</th>\n",
              "      <th>...</th>\n",
              "      <th>EMOTIONALITY_FULL</th>\n",
              "      <th>INTONATION_COMMENT</th>\n",
              "      <th>INTONATION_POST</th>\n",
              "      <th>INTONATION_FULL</th>\n",
              "      <th>IMPERATIV_POST</th>\n",
              "      <th>TIME_MIDNIGHT</th>\n",
              "      <th>FUNCTION2</th>\n",
              "      <th>TSC_3988</th>\n",
              "      <th>REG</th>\n",
              "      <th>top_topic</th>\n",
              "    </tr>\n",
              "  </thead>\n",
              "  <tbody>\n",
              "    <tr>\n",
              "      <th>0</th>\n",
              "      <td>4975</td>\n",
              "      <td>official</td>\n",
              "      <td>muni</td>\n",
              "      <td>6336</td>\n",
              "      <td>1</td>\n",
              "      <td>04.04.2023</td>\n",
              "      <td>12:00:00</td>\n",
              "      <td>2083</td>\n",
              "      <td>1548</td>\n",
              "      <td>16</td>\n",
              "      <td>...</td>\n",
              "      <td>,395933473646641</td>\n",
              "      <td>,168000473006278</td>\n",
              "      <td>,000785545954438335</td>\n",
              "      <td>,0843930094803583</td>\n",
              "      <td>,000785545954438335</td>\n",
              "      <td>720</td>\n",
              "      <td>1</td>\n",
              "      <td>1</td>\n",
              "      <td>1</td>\n",
              "      <td>7</td>\n",
              "    </tr>\n",
              "    <tr>\n",
              "      <th>1</th>\n",
              "      <td>17815</td>\n",
              "      <td>public</td>\n",
              "      <td>dist</td>\n",
              "      <td>2405</td>\n",
              "      <td>1</td>\n",
              "      <td>17.04.2023</td>\n",
              "      <td>17:20:00</td>\n",
              "      <td>1202</td>\n",
              "      <td>79</td>\n",
              "      <td>30</td>\n",
              "      <td>...</td>\n",
              "      <td>,168071349978447</td>\n",
              "      <td>,0307668159112038</td>\n",
              "      <td>0</td>\n",
              "      <td>,0153834079556019</td>\n",
              "      <td>0</td>\n",
              "      <td>1040</td>\n",
              "      <td>1</td>\n",
              "      <td>1</td>\n",
              "      <td>1</td>\n",
              "      <td>7</td>\n",
              "    </tr>\n",
              "    <tr>\n",
              "      <th>2</th>\n",
              "      <td>17143</td>\n",
              "      <td>public</td>\n",
              "      <td>deput</td>\n",
              "      <td>323</td>\n",
              "      <td>1</td>\n",
              "      <td>23.01.2023 11:11</td>\n",
              "      <td>11:11:00</td>\n",
              "      <td>131</td>\n",
              "      <td>0</td>\n",
              "      <td>15</td>\n",
              "      <td>...</td>\n",
              "      <td>,072300602287054</td>\n",
              "      <td>,25536825696046</td>\n",
              "      <td>,0032258064516129</td>\n",
              "      <td>,129297031706036</td>\n",
              "      <td>0</td>\n",
              "      <td>671</td>\n",
              "      <td>1</td>\n",
              "      <td>1</td>\n",
              "      <td>1</td>\n",
              "      <td>8</td>\n",
              "    </tr>\n",
              "    <tr>\n",
              "      <th>3</th>\n",
              "      <td>17114</td>\n",
              "      <td>public</td>\n",
              "      <td>deput</td>\n",
              "      <td>323</td>\n",
              "      <td>1</td>\n",
              "      <td>21.03.2023 16:42</td>\n",
              "      <td>16:42:00</td>\n",
              "      <td>103</td>\n",
              "      <td>11</td>\n",
              "      <td>3</td>\n",
              "      <td>...</td>\n",
              "      <td>,238079427540303</td>\n",
              "      <td>,69700490655734</td>\n",
              "      <td>,000930232558139535</td>\n",
              "      <td>,34896756955774</td>\n",
              "      <td>0</td>\n",
              "      <td>1002</td>\n",
              "      <td>1</td>\n",
              "      <td>1</td>\n",
              "      <td>1</td>\n",
              "      <td>8</td>\n",
              "    </tr>\n",
              "    <tr>\n",
              "      <th>4</th>\n",
              "      <td>17209</td>\n",
              "      <td>public</td>\n",
              "      <td>deput</td>\n",
              "      <td>323</td>\n",
              "      <td>1</td>\n",
              "      <td>03.11.2022 19:09</td>\n",
              "      <td>19:09:00</td>\n",
              "      <td>122</td>\n",
              "      <td>3</td>\n",
              "      <td>1</td>\n",
              "      <td>...</td>\n",
              "      <td>,249305821067698</td>\n",
              "      <td></td>\n",
              "      <td>,00500834724540902</td>\n",
              "      <td></td>\n",
              "      <td>0</td>\n",
              "      <td>1149</td>\n",
              "      <td>1</td>\n",
              "      <td>1</td>\n",
              "      <td>1</td>\n",
              "      <td>7</td>\n",
              "    </tr>\n",
              "  </tbody>\n",
              "</table>\n",
              "<p>5 rows × 65 columns</p>\n",
              "</div>\n",
              "      <button class=\"colab-df-convert\" onclick=\"convertToInteractive('df-2deb8573-cd4d-4338-b6d2-134182a532db')\"\n",
              "              title=\"Convert this dataframe to an interactive table.\"\n",
              "              style=\"display:none;\">\n",
              "        \n",
              "  <svg xmlns=\"http://www.w3.org/2000/svg\" height=\"24px\"viewBox=\"0 0 24 24\"\n",
              "       width=\"24px\">\n",
              "    <path d=\"M0 0h24v24H0V0z\" fill=\"none\"/>\n",
              "    <path d=\"M18.56 5.44l.94 2.06.94-2.06 2.06-.94-2.06-.94-.94-2.06-.94 2.06-2.06.94zm-11 1L8.5 8.5l.94-2.06 2.06-.94-2.06-.94L8.5 2.5l-.94 2.06-2.06.94zm10 10l.94 2.06.94-2.06 2.06-.94-2.06-.94-.94-2.06-.94 2.06-2.06.94z\"/><path d=\"M17.41 7.96l-1.37-1.37c-.4-.4-.92-.59-1.43-.59-.52 0-1.04.2-1.43.59L10.3 9.45l-7.72 7.72c-.78.78-.78 2.05 0 2.83L4 21.41c.39.39.9.59 1.41.59.51 0 1.02-.2 1.41-.59l7.78-7.78 2.81-2.81c.8-.78.8-2.07 0-2.86zM5.41 20L4 18.59l7.72-7.72 1.47 1.35L5.41 20z\"/>\n",
              "  </svg>\n",
              "      </button>\n",
              "      \n",
              "  <style>\n",
              "    .colab-df-container {\n",
              "      display:flex;\n",
              "      flex-wrap:wrap;\n",
              "      gap: 12px;\n",
              "    }\n",
              "\n",
              "    .colab-df-convert {\n",
              "      background-color: #E8F0FE;\n",
              "      border: none;\n",
              "      border-radius: 50%;\n",
              "      cursor: pointer;\n",
              "      display: none;\n",
              "      fill: #1967D2;\n",
              "      height: 32px;\n",
              "      padding: 0 0 0 0;\n",
              "      width: 32px;\n",
              "    }\n",
              "\n",
              "    .colab-df-convert:hover {\n",
              "      background-color: #E2EBFA;\n",
              "      box-shadow: 0px 1px 2px rgba(60, 64, 67, 0.3), 0px 1px 3px 1px rgba(60, 64, 67, 0.15);\n",
              "      fill: #174EA6;\n",
              "    }\n",
              "\n",
              "    [theme=dark] .colab-df-convert {\n",
              "      background-color: #3B4455;\n",
              "      fill: #D2E3FC;\n",
              "    }\n",
              "\n",
              "    [theme=dark] .colab-df-convert:hover {\n",
              "      background-color: #434B5C;\n",
              "      box-shadow: 0px 1px 3px 1px rgba(0, 0, 0, 0.15);\n",
              "      filter: drop-shadow(0px 1px 2px rgba(0, 0, 0, 0.3));\n",
              "      fill: #FFFFFF;\n",
              "    }\n",
              "  </style>\n",
              "\n",
              "      <script>\n",
              "        const buttonEl =\n",
              "          document.querySelector('#df-2deb8573-cd4d-4338-b6d2-134182a532db button.colab-df-convert');\n",
              "        buttonEl.style.display =\n",
              "          google.colab.kernel.accessAllowed ? 'block' : 'none';\n",
              "\n",
              "        async function convertToInteractive(key) {\n",
              "          const element = document.querySelector('#df-2deb8573-cd4d-4338-b6d2-134182a532db');\n",
              "          const dataTable =\n",
              "            await google.colab.kernel.invokeFunction('convertToInteractive',\n",
              "                                                     [key], {});\n",
              "          if (!dataTable) return;\n",
              "\n",
              "          const docLinkHtml = 'Like what you see? Visit the ' +\n",
              "            '<a target=\"_blank\" href=https://colab.research.google.com/notebooks/data_table.ipynb>data table notebook</a>'\n",
              "            + ' to learn more about interactive tables.';\n",
              "          element.innerHTML = '';\n",
              "          dataTable['output_type'] = 'display_data';\n",
              "          await google.colab.output.renderOutput(dataTable, element);\n",
              "          const docLink = document.createElement('div');\n",
              "          docLink.innerHTML = docLinkHtml;\n",
              "          element.appendChild(docLink);\n",
              "        }\n",
              "      </script>\n",
              "    </div>\n",
              "  </div>\n",
              "  "
            ]
          },
          "metadata": {},
          "execution_count": 24
        }
      ]
    },
    {
      "cell_type": "code",
      "source": [
        "df.to_csv('topics.csv', sep=';', encoding='utf-8')"
      ],
      "metadata": {
        "id": "Pu70erAJZTiI"
      },
      "execution_count": null,
      "outputs": []
    },
    {
      "cell_type": "code",
      "source": [
        "from google.colab import files\n",
        "files.download('topics.csv')"
      ],
      "metadata": {
        "colab": {
          "base_uri": "https://localhost:8080/",
          "height": 17
        },
        "id": "Y4jUsTlMZcSK",
        "outputId": "c2381f19-88e8-4aac-b3ef-6d4e099a352f"
      },
      "execution_count": null,
      "outputs": [
        {
          "output_type": "display_data",
          "data": {
            "text/plain": [
              "<IPython.core.display.Javascript object>"
            ],
            "application/javascript": [
              "\n",
              "    async function download(id, filename, size) {\n",
              "      if (!google.colab.kernel.accessAllowed) {\n",
              "        return;\n",
              "      }\n",
              "      const div = document.createElement('div');\n",
              "      const label = document.createElement('label');\n",
              "      label.textContent = `Downloading \"${filename}\": `;\n",
              "      div.appendChild(label);\n",
              "      const progress = document.createElement('progress');\n",
              "      progress.max = size;\n",
              "      div.appendChild(progress);\n",
              "      document.body.appendChild(div);\n",
              "\n",
              "      const buffers = [];\n",
              "      let downloaded = 0;\n",
              "\n",
              "      const channel = await google.colab.kernel.comms.open(id);\n",
              "      // Send a message to notify the kernel that we're ready.\n",
              "      channel.send({})\n",
              "\n",
              "      for await (const message of channel.messages) {\n",
              "        // Send a message to notify the kernel that we're ready.\n",
              "        channel.send({})\n",
              "        if (message.buffers) {\n",
              "          for (const buffer of message.buffers) {\n",
              "            buffers.push(buffer);\n",
              "            downloaded += buffer.byteLength;\n",
              "            progress.value = downloaded;\n",
              "          }\n",
              "        }\n",
              "      }\n",
              "      const blob = new Blob(buffers, {type: 'application/binary'});\n",
              "      const a = document.createElement('a');\n",
              "      a.href = window.URL.createObjectURL(blob);\n",
              "      a.download = filename;\n",
              "      div.appendChild(a);\n",
              "      a.click();\n",
              "      div.remove();\n",
              "    }\n",
              "  "
            ]
          },
          "metadata": {}
        },
        {
          "output_type": "display_data",
          "data": {
            "text/plain": [
              "<IPython.core.display.Javascript object>"
            ],
            "application/javascript": [
              "download(\"download_698809f5-9c1f-4573-89d1-4eb9cd8a4659\", \"topics.csv\", 51540191)"
            ]
          },
          "metadata": {}
        }
      ]
    },
    {
      "cell_type": "code",
      "source": [
        "def show_topics(vectorizer, model, n_words=20):\n",
        "    feature_names = np.array(vectorizer.get_feature_names_out())\n",
        "    top_words = []\n",
        "    \n",
        "    # проходимся по каждой теме\n",
        "    for topic_weights in model.components_:\n",
        "        # сортируем веса по убыванию (для каждого слова из словаря) и берем ТОП-N слов\n",
        "        top_keyword_locs = (-topic_weights).argsort()[:n_words]\n",
        "        # берем id ТОП слов из словаря (согласно весам)\n",
        "        top_words.append(feature_names.take(top_keyword_locs))\n",
        "        \n",
        "    return top_words"
      ],
      "metadata": {
        "id": "9gYKRH6rXBE7"
      },
      "execution_count": null,
      "outputs": []
    },
    {
      "cell_type": "code",
      "source": [
        "topic_keywords = show_topics(vectorizer=vector_ben,\n",
        "                             model=lda_model_ben,\n",
        "                             n_words=1000)\n",
        "\n",
        "df_topic_keywords = pd.DataFrame(topic_keywords)\n",
        "df_topic_keywords.columns = [\n",
        "    'Word ' + str(i) for i in range(df_topic_keywords.shape[1])\n",
        "]\n",
        "df_topic_keywords.index = [\n",
        "    'Topic ' + str(i + 1) for i in range(df_topic_keywords.shape[0])\n",
        "]\n",
        "df_topic_keywords"
      ],
      "metadata": {
        "colab": {
          "base_uri": "https://localhost:8080/",
          "height": 630
        },
        "id": "clVH2CaDXoOo",
        "outputId": "dc701842-4660-4842-9cee-2b520ef1d3ed"
      },
      "execution_count": null,
      "outputs": [
        {
          "output_type": "execute_result",
          "data": {
            "text/plain": [
              "           Word 0     Word 1           Word 2   Word 3       Word 4   \n",
              "Topic 1    добрый     собака              дом    сосед   пожалуйста  \\\n",
              "Topic 2     район   площадка  благоустройство    адрес       работа   \n",
              "Topic 3       год  петербург            город   проект        рубль   \n",
              "Topic 4       дом  петербург            район   работа   территория   \n",
              "Topic 5     центр     помощь           услуга    совет     внимание   \n",
              "Topic 6     улица   проспект             вода    район          дом   \n",
              "Topic 7   мужчина     летний          полиция     дело      женщина   \n",
              "Topic 8      свой        наш          который  человек      ребёнок   \n",
              "Topic 9       год      школа            район  конкурс  поздравлять   \n",
              "Topic 10      год      улица        петербург    город      автобус   \n",
              "\n",
              "               Word 5       Word 6       Word 7         Word 8       Word 9   \n",
              "Topic 1      находить        вечер          кот         искать       видеть  \\\n",
              "Topic 2        житель      детский   территория            сад  калининский   \n",
              "Topic 3         намыв      который        новый  строительство       остров   \n",
              "Topic 4       комитет       вопрос       житель        который    гражданин   \n",
              "Topic 5         район       житель          спб        телефон   объявление   \n",
              "Topic 6   калининский       работа         снег           врач       уборка   \n",
              "Topic 7     сотрудник        район      девочка            год        место   \n",
              "Topic 8         самый         день        время           весь       хотеть   \n",
              "Topic 9        россия  калининский  образование          место      участие   \n",
              "Topic 10        метро     проспект      станция          война      площадь   \n",
              "\n",
              "          ...       Word 990      Word 991         Word 992      Word 993   \n",
              "Topic 1   ...     скворцовый        молния              йог      относить  \\\n",
              "Topic 2   ...    плодородный  лимитировать          открыть           дно   \n",
              "Topic 3   ...  эффективность      одобрять          взяться        предел   \n",
              "Topic 4   ...      показание  инициировать          застава           ржа   \n",
              "Topic 5   ...     опрашивать     закрывать  соответствовать       занятый   \n",
              "Topic 6   ...         рыбный     протекать            мохов       стоянка   \n",
              "Topic 7   ...          убить      описание           ноготь        юность   \n",
              "Topic 8   ...   отказываться     сдаваться             пояс      жениться   \n",
              "Topic 9   ...          салют  справедливый         профсоюз  классический   \n",
              "Topic 10  ...      прочность        носить         утренний     сочетание   \n",
              "\n",
              "                 Word 994     Word 995    Word 996        Word 997   \n",
              "Topic 1   недостаточность      луговой      промах     откладывать  \\\n",
              "Topic 2             бычок      сумерки      развод     бронировать   \n",
              "Topic 3            делать       воздух  пропаганда  присутствовать   \n",
              "Topic 4       фиксировать  возрождение    получить         перевод   \n",
              "Topic 5       последующий   исключение      верный           созыв   \n",
              "Topic 6          обильный  большинство       равно       изменение   \n",
              "Topic 7              дядя        выход      нажать         условно   \n",
              "Topic 8              диск       снимка       орать            ужин   \n",
              "Topic 9         нагрудный  хореография     министр        подарить   \n",
              "Topic 10            карла   официально    продлить          япония   \n",
              "\n",
              "              Word 998       Word 999  \n",
              "Topic 1         пальто      шоколадка  \n",
              "Topic 2        чемодан            май  \n",
              "Topic 3     масштабный  электрический  \n",
              "Topic 4       алгоритм    поддержание  \n",
              "Topic 5   обеспечивать        годовой  \n",
              "Topic 6        детишки     протяжение  \n",
              "Topic 7        заявить          лента  \n",
              "Topic 8       славянин        открыто  \n",
              "Topic 9      учреждать   незабываемый  \n",
              "Topic 10         пятый       лампочка  \n",
              "\n",
              "[10 rows x 1000 columns]"
            ],
            "text/html": [
              "\n",
              "  <div id=\"df-a093555d-1fa7-4921-ae38-473dbd59ab54\">\n",
              "    <div class=\"colab-df-container\">\n",
              "      <div>\n",
              "<style scoped>\n",
              "    .dataframe tbody tr th:only-of-type {\n",
              "        vertical-align: middle;\n",
              "    }\n",
              "\n",
              "    .dataframe tbody tr th {\n",
              "        vertical-align: top;\n",
              "    }\n",
              "\n",
              "    .dataframe thead th {\n",
              "        text-align: right;\n",
              "    }\n",
              "</style>\n",
              "<table border=\"1\" class=\"dataframe\">\n",
              "  <thead>\n",
              "    <tr style=\"text-align: right;\">\n",
              "      <th></th>\n",
              "      <th>Word 0</th>\n",
              "      <th>Word 1</th>\n",
              "      <th>Word 2</th>\n",
              "      <th>Word 3</th>\n",
              "      <th>Word 4</th>\n",
              "      <th>Word 5</th>\n",
              "      <th>Word 6</th>\n",
              "      <th>Word 7</th>\n",
              "      <th>Word 8</th>\n",
              "      <th>Word 9</th>\n",
              "      <th>...</th>\n",
              "      <th>Word 990</th>\n",
              "      <th>Word 991</th>\n",
              "      <th>Word 992</th>\n",
              "      <th>Word 993</th>\n",
              "      <th>Word 994</th>\n",
              "      <th>Word 995</th>\n",
              "      <th>Word 996</th>\n",
              "      <th>Word 997</th>\n",
              "      <th>Word 998</th>\n",
              "      <th>Word 999</th>\n",
              "    </tr>\n",
              "  </thead>\n",
              "  <tbody>\n",
              "    <tr>\n",
              "      <th>Topic 1</th>\n",
              "      <td>добрый</td>\n",
              "      <td>собака</td>\n",
              "      <td>дом</td>\n",
              "      <td>сосед</td>\n",
              "      <td>пожалуйста</td>\n",
              "      <td>находить</td>\n",
              "      <td>вечер</td>\n",
              "      <td>кот</td>\n",
              "      <td>искать</td>\n",
              "      <td>видеть</td>\n",
              "      <td>...</td>\n",
              "      <td>скворцовый</td>\n",
              "      <td>молния</td>\n",
              "      <td>йог</td>\n",
              "      <td>относить</td>\n",
              "      <td>недостаточность</td>\n",
              "      <td>луговой</td>\n",
              "      <td>промах</td>\n",
              "      <td>откладывать</td>\n",
              "      <td>пальто</td>\n",
              "      <td>шоколадка</td>\n",
              "    </tr>\n",
              "    <tr>\n",
              "      <th>Topic 2</th>\n",
              "      <td>район</td>\n",
              "      <td>площадка</td>\n",
              "      <td>благоустройство</td>\n",
              "      <td>адрес</td>\n",
              "      <td>работа</td>\n",
              "      <td>житель</td>\n",
              "      <td>детский</td>\n",
              "      <td>территория</td>\n",
              "      <td>сад</td>\n",
              "      <td>калининский</td>\n",
              "      <td>...</td>\n",
              "      <td>плодородный</td>\n",
              "      <td>лимитировать</td>\n",
              "      <td>открыть</td>\n",
              "      <td>дно</td>\n",
              "      <td>бычок</td>\n",
              "      <td>сумерки</td>\n",
              "      <td>развод</td>\n",
              "      <td>бронировать</td>\n",
              "      <td>чемодан</td>\n",
              "      <td>май</td>\n",
              "    </tr>\n",
              "    <tr>\n",
              "      <th>Topic 3</th>\n",
              "      <td>год</td>\n",
              "      <td>петербург</td>\n",
              "      <td>город</td>\n",
              "      <td>проект</td>\n",
              "      <td>рубль</td>\n",
              "      <td>намыв</td>\n",
              "      <td>который</td>\n",
              "      <td>новый</td>\n",
              "      <td>строительство</td>\n",
              "      <td>остров</td>\n",
              "      <td>...</td>\n",
              "      <td>эффективность</td>\n",
              "      <td>одобрять</td>\n",
              "      <td>взяться</td>\n",
              "      <td>предел</td>\n",
              "      <td>делать</td>\n",
              "      <td>воздух</td>\n",
              "      <td>пропаганда</td>\n",
              "      <td>присутствовать</td>\n",
              "      <td>масштабный</td>\n",
              "      <td>электрический</td>\n",
              "    </tr>\n",
              "    <tr>\n",
              "      <th>Topic 4</th>\n",
              "      <td>дом</td>\n",
              "      <td>петербург</td>\n",
              "      <td>район</td>\n",
              "      <td>работа</td>\n",
              "      <td>территория</td>\n",
              "      <td>комитет</td>\n",
              "      <td>вопрос</td>\n",
              "      <td>житель</td>\n",
              "      <td>который</td>\n",
              "      <td>гражданин</td>\n",
              "      <td>...</td>\n",
              "      <td>показание</td>\n",
              "      <td>инициировать</td>\n",
              "      <td>застава</td>\n",
              "      <td>ржа</td>\n",
              "      <td>фиксировать</td>\n",
              "      <td>возрождение</td>\n",
              "      <td>получить</td>\n",
              "      <td>перевод</td>\n",
              "      <td>алгоритм</td>\n",
              "      <td>поддержание</td>\n",
              "    </tr>\n",
              "    <tr>\n",
              "      <th>Topic 5</th>\n",
              "      <td>центр</td>\n",
              "      <td>помощь</td>\n",
              "      <td>услуга</td>\n",
              "      <td>совет</td>\n",
              "      <td>внимание</td>\n",
              "      <td>район</td>\n",
              "      <td>житель</td>\n",
              "      <td>спб</td>\n",
              "      <td>телефон</td>\n",
              "      <td>объявление</td>\n",
              "      <td>...</td>\n",
              "      <td>опрашивать</td>\n",
              "      <td>закрывать</td>\n",
              "      <td>соответствовать</td>\n",
              "      <td>занятый</td>\n",
              "      <td>последующий</td>\n",
              "      <td>исключение</td>\n",
              "      <td>верный</td>\n",
              "      <td>созыв</td>\n",
              "      <td>обеспечивать</td>\n",
              "      <td>годовой</td>\n",
              "    </tr>\n",
              "    <tr>\n",
              "      <th>Topic 6</th>\n",
              "      <td>улица</td>\n",
              "      <td>проспект</td>\n",
              "      <td>вода</td>\n",
              "      <td>район</td>\n",
              "      <td>дом</td>\n",
              "      <td>калининский</td>\n",
              "      <td>работа</td>\n",
              "      <td>снег</td>\n",
              "      <td>врач</td>\n",
              "      <td>уборка</td>\n",
              "      <td>...</td>\n",
              "      <td>рыбный</td>\n",
              "      <td>протекать</td>\n",
              "      <td>мохов</td>\n",
              "      <td>стоянка</td>\n",
              "      <td>обильный</td>\n",
              "      <td>большинство</td>\n",
              "      <td>равно</td>\n",
              "      <td>изменение</td>\n",
              "      <td>детишки</td>\n",
              "      <td>протяжение</td>\n",
              "    </tr>\n",
              "    <tr>\n",
              "      <th>Topic 7</th>\n",
              "      <td>мужчина</td>\n",
              "      <td>летний</td>\n",
              "      <td>полиция</td>\n",
              "      <td>дело</td>\n",
              "      <td>женщина</td>\n",
              "      <td>сотрудник</td>\n",
              "      <td>район</td>\n",
              "      <td>девочка</td>\n",
              "      <td>год</td>\n",
              "      <td>место</td>\n",
              "      <td>...</td>\n",
              "      <td>убить</td>\n",
              "      <td>описание</td>\n",
              "      <td>ноготь</td>\n",
              "      <td>юность</td>\n",
              "      <td>дядя</td>\n",
              "      <td>выход</td>\n",
              "      <td>нажать</td>\n",
              "      <td>условно</td>\n",
              "      <td>заявить</td>\n",
              "      <td>лента</td>\n",
              "    </tr>\n",
              "    <tr>\n",
              "      <th>Topic 8</th>\n",
              "      <td>свой</td>\n",
              "      <td>наш</td>\n",
              "      <td>который</td>\n",
              "      <td>человек</td>\n",
              "      <td>ребёнок</td>\n",
              "      <td>самый</td>\n",
              "      <td>день</td>\n",
              "      <td>время</td>\n",
              "      <td>весь</td>\n",
              "      <td>хотеть</td>\n",
              "      <td>...</td>\n",
              "      <td>отказываться</td>\n",
              "      <td>сдаваться</td>\n",
              "      <td>пояс</td>\n",
              "      <td>жениться</td>\n",
              "      <td>диск</td>\n",
              "      <td>снимка</td>\n",
              "      <td>орать</td>\n",
              "      <td>ужин</td>\n",
              "      <td>славянин</td>\n",
              "      <td>открыто</td>\n",
              "    </tr>\n",
              "    <tr>\n",
              "      <th>Topic 9</th>\n",
              "      <td>год</td>\n",
              "      <td>школа</td>\n",
              "      <td>район</td>\n",
              "      <td>конкурс</td>\n",
              "      <td>поздравлять</td>\n",
              "      <td>россия</td>\n",
              "      <td>калининский</td>\n",
              "      <td>образование</td>\n",
              "      <td>место</td>\n",
              "      <td>участие</td>\n",
              "      <td>...</td>\n",
              "      <td>салют</td>\n",
              "      <td>справедливый</td>\n",
              "      <td>профсоюз</td>\n",
              "      <td>классический</td>\n",
              "      <td>нагрудный</td>\n",
              "      <td>хореография</td>\n",
              "      <td>министр</td>\n",
              "      <td>подарить</td>\n",
              "      <td>учреждать</td>\n",
              "      <td>незабываемый</td>\n",
              "    </tr>\n",
              "    <tr>\n",
              "      <th>Topic 10</th>\n",
              "      <td>год</td>\n",
              "      <td>улица</td>\n",
              "      <td>петербург</td>\n",
              "      <td>город</td>\n",
              "      <td>автобус</td>\n",
              "      <td>метро</td>\n",
              "      <td>проспект</td>\n",
              "      <td>станция</td>\n",
              "      <td>война</td>\n",
              "      <td>площадь</td>\n",
              "      <td>...</td>\n",
              "      <td>прочность</td>\n",
              "      <td>носить</td>\n",
              "      <td>утренний</td>\n",
              "      <td>сочетание</td>\n",
              "      <td>карла</td>\n",
              "      <td>официально</td>\n",
              "      <td>продлить</td>\n",
              "      <td>япония</td>\n",
              "      <td>пятый</td>\n",
              "      <td>лампочка</td>\n",
              "    </tr>\n",
              "  </tbody>\n",
              "</table>\n",
              "<p>10 rows × 1000 columns</p>\n",
              "</div>\n",
              "      <button class=\"colab-df-convert\" onclick=\"convertToInteractive('df-a093555d-1fa7-4921-ae38-473dbd59ab54')\"\n",
              "              title=\"Convert this dataframe to an interactive table.\"\n",
              "              style=\"display:none;\">\n",
              "        \n",
              "  <svg xmlns=\"http://www.w3.org/2000/svg\" height=\"24px\"viewBox=\"0 0 24 24\"\n",
              "       width=\"24px\">\n",
              "    <path d=\"M0 0h24v24H0V0z\" fill=\"none\"/>\n",
              "    <path d=\"M18.56 5.44l.94 2.06.94-2.06 2.06-.94-2.06-.94-.94-2.06-.94 2.06-2.06.94zm-11 1L8.5 8.5l.94-2.06 2.06-.94-2.06-.94L8.5 2.5l-.94 2.06-2.06.94zm10 10l.94 2.06.94-2.06 2.06-.94-2.06-.94-.94-2.06-.94 2.06-2.06.94z\"/><path d=\"M17.41 7.96l-1.37-1.37c-.4-.4-.92-.59-1.43-.59-.52 0-1.04.2-1.43.59L10.3 9.45l-7.72 7.72c-.78.78-.78 2.05 0 2.83L4 21.41c.39.39.9.59 1.41.59.51 0 1.02-.2 1.41-.59l7.78-7.78 2.81-2.81c.8-.78.8-2.07 0-2.86zM5.41 20L4 18.59l7.72-7.72 1.47 1.35L5.41 20z\"/>\n",
              "  </svg>\n",
              "      </button>\n",
              "      \n",
              "  <style>\n",
              "    .colab-df-container {\n",
              "      display:flex;\n",
              "      flex-wrap:wrap;\n",
              "      gap: 12px;\n",
              "    }\n",
              "\n",
              "    .colab-df-convert {\n",
              "      background-color: #E8F0FE;\n",
              "      border: none;\n",
              "      border-radius: 50%;\n",
              "      cursor: pointer;\n",
              "      display: none;\n",
              "      fill: #1967D2;\n",
              "      height: 32px;\n",
              "      padding: 0 0 0 0;\n",
              "      width: 32px;\n",
              "    }\n",
              "\n",
              "    .colab-df-convert:hover {\n",
              "      background-color: #E2EBFA;\n",
              "      box-shadow: 0px 1px 2px rgba(60, 64, 67, 0.3), 0px 1px 3px 1px rgba(60, 64, 67, 0.15);\n",
              "      fill: #174EA6;\n",
              "    }\n",
              "\n",
              "    [theme=dark] .colab-df-convert {\n",
              "      background-color: #3B4455;\n",
              "      fill: #D2E3FC;\n",
              "    }\n",
              "\n",
              "    [theme=dark] .colab-df-convert:hover {\n",
              "      background-color: #434B5C;\n",
              "      box-shadow: 0px 1px 3px 1px rgba(0, 0, 0, 0.15);\n",
              "      filter: drop-shadow(0px 1px 2px rgba(0, 0, 0, 0.3));\n",
              "      fill: #FFFFFF;\n",
              "    }\n",
              "  </style>\n",
              "\n",
              "      <script>\n",
              "        const buttonEl =\n",
              "          document.querySelector('#df-a093555d-1fa7-4921-ae38-473dbd59ab54 button.colab-df-convert');\n",
              "        buttonEl.style.display =\n",
              "          google.colab.kernel.accessAllowed ? 'block' : 'none';\n",
              "\n",
              "        async function convertToInteractive(key) {\n",
              "          const element = document.querySelector('#df-a093555d-1fa7-4921-ae38-473dbd59ab54');\n",
              "          const dataTable =\n",
              "            await google.colab.kernel.invokeFunction('convertToInteractive',\n",
              "                                                     [key], {});\n",
              "          if (!dataTable) return;\n",
              "\n",
              "          const docLinkHtml = 'Like what you see? Visit the ' +\n",
              "            '<a target=\"_blank\" href=https://colab.research.google.com/notebooks/data_table.ipynb>data table notebook</a>'\n",
              "            + ' to learn more about interactive tables.';\n",
              "          element.innerHTML = '';\n",
              "          dataTable['output_type'] = 'display_data';\n",
              "          await google.colab.output.renderOutput(dataTable, element);\n",
              "          const docLink = document.createElement('div');\n",
              "          docLink.innerHTML = docLinkHtml;\n",
              "          element.appendChild(docLink);\n",
              "        }\n",
              "      </script>\n",
              "    </div>\n",
              "  </div>\n",
              "  "
            ]
          },
          "metadata": {},
          "execution_count": 32
        }
      ]
    },
    {
      "cell_type": "code",
      "source": [
        "df_topic_keywords.to_csv('top10.csv', sep=';', encoding='utf-8')"
      ],
      "metadata": {
        "id": "7pq7DdibdB_9"
      },
      "execution_count": null,
      "outputs": []
    },
    {
      "cell_type": "code",
      "source": [
        "files.download('top10.csv')"
      ],
      "metadata": {
        "colab": {
          "base_uri": "https://localhost:8080/",
          "height": 17
        },
        "id": "DqVT-BaIdJPC",
        "outputId": "cca6dd28-9076-4bf1-f7b9-c81d1c9a5700"
      },
      "execution_count": null,
      "outputs": [
        {
          "output_type": "display_data",
          "data": {
            "text/plain": [
              "<IPython.core.display.Javascript object>"
            ],
            "application/javascript": [
              "\n",
              "    async function download(id, filename, size) {\n",
              "      if (!google.colab.kernel.accessAllowed) {\n",
              "        return;\n",
              "      }\n",
              "      const div = document.createElement('div');\n",
              "      const label = document.createElement('label');\n",
              "      label.textContent = `Downloading \"${filename}\": `;\n",
              "      div.appendChild(label);\n",
              "      const progress = document.createElement('progress');\n",
              "      progress.max = size;\n",
              "      div.appendChild(progress);\n",
              "      document.body.appendChild(div);\n",
              "\n",
              "      const buffers = [];\n",
              "      let downloaded = 0;\n",
              "\n",
              "      const channel = await google.colab.kernel.comms.open(id);\n",
              "      // Send a message to notify the kernel that we're ready.\n",
              "      channel.send({})\n",
              "\n",
              "      for await (const message of channel.messages) {\n",
              "        // Send a message to notify the kernel that we're ready.\n",
              "        channel.send({})\n",
              "        if (message.buffers) {\n",
              "          for (const buffer of message.buffers) {\n",
              "            buffers.push(buffer);\n",
              "            downloaded += buffer.byteLength;\n",
              "            progress.value = downloaded;\n",
              "          }\n",
              "        }\n",
              "      }\n",
              "      const blob = new Blob(buffers, {type: 'application/binary'});\n",
              "      const a = document.createElement('a');\n",
              "      a.href = window.URL.createObjectURL(blob);\n",
              "      a.download = filename;\n",
              "      div.appendChild(a);\n",
              "      a.click();\n",
              "      div.remove();\n",
              "    }\n",
              "  "
            ]
          },
          "metadata": {}
        },
        {
          "output_type": "display_data",
          "data": {
            "text/plain": [
              "<IPython.core.display.Javascript object>"
            ],
            "application/javascript": [
              "download(\"download_e57a4442-9309-4444-bcf3-8052ade3a018\", \"top10.csv\", 175918)"
            ]
          },
          "metadata": {}
        }
      ]
    },
    {
      "cell_type": "code",
      "source": [
        "sns.countplot(x='top_topic', data=df[df.top_topic != -9]);"
      ],
      "metadata": {
        "colab": {
          "base_uri": "https://localhost:8080/",
          "height": 450
        },
        "id": "8NzcQCNzXx3E",
        "outputId": "c784ad10-0ba7-4198-d69f-5452e4417956"
      },
      "execution_count": null,
      "outputs": [
        {
          "output_type": "display_data",
          "data": {
            "text/plain": [
              "<Figure size 640x480 with 1 Axes>"
            ],
            "image/png": "[encoded data removed]"
          },
          "metadata": {}
        }
      ]
    },
    {
      "cell_type": "code",
      "source": [
        "from __future__ import division\n",
        "\n",
        "import graphlab as gl\n",
        "import pandas as pd\n",
        "import pyLDAvis\n",
        "import pyLDAvis.graphlab\n",
        "\n",
        "pyLDAvis.enable_notebook()\n",
        "\n",
        "topic_model = gl.topic_model.create(bows, num_topics=100, num_iterations=200)"
      ],
      "metadata": {
        "id": "loIgxQfKEsWE"
      },
      "execution_count": null,
      "outputs": []
    },
    {
      "cell_type": "code",
      "source": [
        "p = pyLDAvis.gensim.prepare(topic_model, corpus, dictionary)\n",
        "pyLDAvis.save_html(p, 'lda.html')"
      ],
      "metadata": {
        "id": "JFYq4A7nDIHE"
      },
      "execution_count": null,
      "outputs": []
    },
    {
      "cell_type": "code",
      "source": [
        "def predict_topic(data, vectorizer=vector_ben, model=lda_model_ben):\n",
        "    \n",
        "    transform_text = get_result(data)\n",
        "    vec_text = vectorizer.transform([transform_text])\n",
        "    topic_proba = model.transform(vec_text)[0]\n",
        "    \n",
        "    if np.all(topic_proba == topic_proba[0]) == True:\n",
        "        return -9\n",
        "    return np.argmax(topic_proba)"
      ],
      "metadata": {
        "id": "9JpNMKt-3zKd"
      },
      "execution_count": null,
      "outputs": []
    },
    {
      "cell_type": "code",
      "source": [
        "df['top_topic'] = df.ТЕКСТ3.transform(predict_topic)"
      ],
      "metadata": {
        "id": "v3liSNmI39Bb"
      },
      "execution_count": null,
      "outputs": []
    },
    {
      "cell_type": "code",
      "source": [
        "sns.countplot(x='top_topic', data=df[df.top_topic != -9]);"
      ],
      "metadata": {
        "id": "9TapBpKC4BY9"
      },
      "execution_count": null,
      "outputs": []
    },
    {
      "cell_type": "code",
      "source": [
        "from wordcloud import WordCloud\n",
        "from wordcloud import ImageColorGenerator\n",
        "from wordcloud import STOPWORDS\n",
        "import matplotlib.pyplot as plt\n",
        "import pandas as pd"
      ],
      "metadata": {
        "id": "SahbNIRXdz3q"
      },
      "execution_count": null,
      "outputs": []
    },
    {
      "cell_type": "code",
      "source": [
        "datatext = df['TEXT3'].loc[df['top_topic'] == -9]"
      ],
      "metadata": {
        "id": "I402V7djd-lj"
      },
      "execution_count": null,
      "outputs": []
    },
    {
      "cell_type": "code",
      "source": [
        "data_text = list(datatext)"
      ],
      "metadata": {
        "id": "IxKLarsweS1V"
      },
      "execution_count": null,
      "outputs": []
    },
    {
      "cell_type": "code",
      "source": [
        "text = \" \".join(i for i in data_text)\n",
        "stopwords = set(STOPWORDS)\n",
        "stopwords.update([\"очень\", \"маршрут\", \"место\", \"проходить\", \"первый\", \"здание\", \"становиться\", \"дом\", \"время\", \"такой\", \"просто\", \"наш\", \"каждый\", \"человек\", \"свой\", \"город\", \"утро\", \"вода\", \"житель\", \"новый\", \"весь\", \"день\", \"улица\", \"район\", \"калининский\", \"добрый\", \"вопрос\", \"работа\", \"который\", \"год\", \"году\", \"также\", \"петербург\", \"петербурге\", \"петербурга\", \"которые\"])\n",
        "wordcloud = WordCloud(stopwords=stopwords, width=1280,\n",
        "                        height=1024, background_color=\"white\", colormap = 'gist_heat').generate(text)\n",
        "plt.figure()\n",
        "plt.imshow(wordcloud, interpolation='bilinear')\n",
        "plt.axis(\"off\")\n",
        "plt.show()"
      ],
      "metadata": {
        "colab": {
          "base_uri": "https://localhost:8080/",
          "height": 406
        },
        "id": "IjOFw9MWd4ka",
        "outputId": "c84d6ead-ad7d-45f2-c151-549ef3aba247"
      },
      "execution_count": null,
      "outputs": [
        {
          "output_type": "display_data",
          "data": {
            "text/plain": [
              "<Figure size 640x480 with 1 Axes>"
            ],
            "image/png": "[encoded data removed]"
          },
          "metadata": {}
        }
      ]
    },
    {
      "cell_type": "code",
      "source": [
        "width=800,\n",
        "                        height=600"
      ],
      "metadata": {
        "id": "aaewjSnNgLaB"
      },
      "execution_count": null,
      "outputs": []
    }
  ]
}