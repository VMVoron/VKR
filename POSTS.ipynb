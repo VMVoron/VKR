{
 "cells": [
  {
   "cell_type": "raw",
   "id": "339abe0a-edf3-40b1-8165-3d18edbce97e",
   "metadata": {},
   "source": [
    "!pip install pymystem3\n",
    "!pip install dostoevsky\n",
    "!pip install pymorphy2"
   ]
  },
  {
   "cell_type": "code",
   "execution_count": 1,
   "id": "9b991c97-626b-4b22-98cc-9b3c5c979c2c",
   "metadata": {},
   "outputs": [],
   "source": [
    "import pandas as pd\n",
    "import numpy as np\n",
    "from pymystem3 import Mystem\n",
    "from datetime import datetime\n",
    "from dostoevsky.tokenization import RegexTokenizer\n",
    "from dostoevsky.models import FastTextSocialNetworkModel"
   ]
  },
  {
   "cell_type": "code",
   "execution_count": 2,
   "id": "ace869d0-256b-4bd9-9dc4-f8362ad2a9e0",
   "metadata": {},
   "outputs": [],
   "source": [
    "dfcolumns = pd.read_csv(r'ВКР/Kalininsky_post_1.csv',\n",
    "                        nrows = 1, delimiter=';', encoding = 'UTF-8')\n",
    "df = pd.read_csv(r'ВКР/Kalininsky_post_1.csv',\n",
    "                  header = None,\n",
    "                  delimiter=';',\n",
    "                  skiprows = 1,\n",
    "                  encoding='UTF-8',\n",
    "                  usecols = list(range(len(dfcolumns.columns))),\n",
    "                  names = dfcolumns.columns)"
   ]
  },
  {
   "cell_type": "raw",
   "id": "be7604e4-8b47-417e-97dd-e97425f5ffc7",
   "metadata": {},
   "source": [
    "# Unused params:   index_col = 0, on_bad_lines='skip', low_memory = False, engine = 'python'"
   ]
  },
  {
   "cell_type": "code",
   "execution_count": 3,
   "id": "a91c0e23-57a8-4454-ac46-564ed5882827",
   "metadata": {},
   "outputs": [
    {
     "name": "stdout",
     "output_type": "stream",
     "text": [
      "43959\n"
     ]
    }
   ],
   "source": [
    "length = len(df)\n",
    "print(length)"
   ]
  },
  {
   "cell_type": "code",
   "execution_count": 4,
   "id": "f75ba948-cb50-4636-b6f3-c3607ab3d411",
   "metadata": {},
   "outputs": [
    {
     "data": {
      "text/html": [
       "<div>\n",
       "<style scoped>\n",
       "    .dataframe tbody tr th:only-of-type {\n",
       "        vertical-align: middle;\n",
       "    }\n",
       "\n",
       "    .dataframe tbody tr th {\n",
       "        vertical-align: top;\n",
       "    }\n",
       "\n",
       "    .dataframe thead th {\n",
       "        text-align: right;\n",
       "    }\n",
       "</style>\n",
       "<table border=\"1\" class=\"dataframe\">\n",
       "  <thead>\n",
       "    <tr style=\"text-align: right;\">\n",
       "      <th></th>\n",
       "      <th>ID</th>\n",
       "      <th>ТИП</th>\n",
       "      <th>ПОДТИП</th>\n",
       "      <th>ССЫЛКА НА ПОСТ</th>\n",
       "      <th>НАЗВАНИЕ ВЛАДЕЛЬЦА</th>\n",
       "      <th>ПОДПИСЧИКОВ</th>\n",
       "      <th>ССЫЛКА НА ВЛАДЕЛЬЦА СТЕНЫ</th>\n",
       "      <th>ССЫЛКА НА АВТОРА ПОСТА</th>\n",
       "      <th>АВТОРСТВО</th>\n",
       "      <th>ССЫЛКА НА ПОСТ С УЧЁТОМ АВТОРА</th>\n",
       "      <th>ДАТА ПУБЛИКАЦИИ</th>\n",
       "      <th>ТЕКСТ</th>\n",
       "      <th>ЛАЙКОВ</th>\n",
       "      <th>РЕПОСТОВ</th>\n",
       "      <th>КОММЕНТАРИЕВ</th>\n",
       "      <th>ПРОСМОТРОВ</th>\n",
       "      <th>ВНЕШНИЙ_ИСТОЧНИК</th>\n",
       "      <th>ИСТОЧНИК</th>\n",
       "      <th>НАЗВАНИЕ ИСТОЧНИКА</th>\n",
       "    </tr>\n",
       "  </thead>\n",
       "  <tbody>\n",
       "    <tr>\n",
       "      <th>0</th>\n",
       "      <td>1</td>\n",
       "      <td>official</td>\n",
       "      <td>NaN</td>\n",
       "      <td>https://vk.com/wall-23904_314207</td>\n",
       "      <td>Калининский район Санкт-Петербурга</td>\n",
       "      <td>65311</td>\n",
       "      <td>https://vk.com/club23904</td>\n",
       "      <td>https://vk.com/club23904</td>\n",
       "      <td>1</td>\n",
       "      <td>https://vk.com/club23904?w=wall-23904_314207</td>\n",
       "      <td>27.04.2023</td>\n",
       "      <td>Сегодня в 14:00 состоится прямой эфир из Пресс...</td>\n",
       "      <td>51.0</td>\n",
       "      <td>14.0</td>\n",
       "      <td>118.0</td>\n",
       "      <td>5853.0</td>\n",
       "      <td>0</td>\n",
       "      <td>NaN</td>\n",
       "      <td>NaN</td>\n",
       "    </tr>\n",
       "  </tbody>\n",
       "</table>\n",
       "</div>"
      ],
      "text/plain": [
       "   ID       ТИП  ПОДТИП                    ССЫЛКА НА ПОСТ   \n",
       "0   1  official     NaN  https://vk.com/wall-23904_314207  \\\n",
       "\n",
       "                   НАЗВАНИЕ ВЛАДЕЛЬЦА  ПОДПИСЧИКОВ ССЫЛКА НА ВЛАДЕЛЬЦА СТЕНЫ   \n",
       "0  Калининский район Санкт-Петербурга        65311  https://vk.com/club23904  \\\n",
       "\n",
       "     ССЫЛКА НА АВТОРА ПОСТА  АВТОРСТВО   \n",
       "0  https://vk.com/club23904          1  \\\n",
       "\n",
       "                 ССЫЛКА НА ПОСТ С УЧЁТОМ АВТОРА ДАТА ПУБЛИКАЦИИ   \n",
       "0  https://vk.com/club23904?w=wall-23904_314207      27.04.2023  \\\n",
       "\n",
       "                                               ТЕКСТ  ЛАЙКОВ  РЕПОСТОВ   \n",
       "0  Сегодня в 14:00 состоится прямой эфир из Пресс...    51.0      14.0  \\\n",
       "\n",
       "   КОММЕНТАРИЕВ  ПРОСМОТРОВ  ВНЕШНИЙ_ИСТОЧНИК ИСТОЧНИК НАЗВАНИЕ ИСТОЧНИКА  \n",
       "0         118.0      5853.0                 0      NaN                NaN  "
      ]
     },
     "execution_count": 4,
     "metadata": {},
     "output_type": "execute_result"
    }
   ],
   "source": [
    "df.head()[:1]"
   ]
  },
  {
   "cell_type": "code",
   "execution_count": 5,
   "id": "1a3e7624-fd27-4acf-80fd-dca3df75ffad",
   "metadata": {},
   "outputs": [
    {
     "name": "stdout",
     "output_type": "stream",
     "text": [
      "<class 'pandas.core.frame.DataFrame'>\n",
      "RangeIndex: 43959 entries, 0 to 43958\n",
      "Data columns (total 19 columns):\n",
      " #   Column                          Non-Null Count  Dtype  \n",
      "---  ------                          --------------  -----  \n",
      " 0   ID                              43959 non-null  int64  \n",
      " 1   ТИП                             43959 non-null  object \n",
      " 2   ПОДТИП                          0 non-null      float64\n",
      " 3   ССЫЛКА НА ПОСТ                  43959 non-null  object \n",
      " 4   НАЗВАНИЕ ВЛАДЕЛЬЦА              43959 non-null  object \n",
      " 5   ПОДПИСЧИКОВ                     43959 non-null  int64  \n",
      " 6   ССЫЛКА НА ВЛАДЕЛЬЦА СТЕНЫ       43959 non-null  object \n",
      " 7   ССЫЛКА НА АВТОРА ПОСТА          43959 non-null  object \n",
      " 8   АВТОРСТВО                       43959 non-null  int64  \n",
      " 9   ССЫЛКА НА ПОСТ С УЧЁТОМ АВТОРА  43959 non-null  object \n",
      " 10  ДАТА ПУБЛИКАЦИИ                 43959 non-null  object \n",
      " 11  ТЕКСТ                           38932 non-null  object \n",
      " 12  ЛАЙКОВ                          43958 non-null  float64\n",
      " 13  РЕПОСТОВ                        43958 non-null  float64\n",
      " 14  КОММЕНТАРИЕВ                    43958 non-null  float64\n",
      " 15  ПРОСМОТРОВ                      43958 non-null  float64\n",
      " 16  ВНЕШНИЙ_ИСТОЧНИК                43959 non-null  int64  \n",
      " 17  ИСТОЧНИК                        9066 non-null   object \n",
      " 18  НАЗВАНИЕ ИСТОЧНИКА              9066 non-null   object \n",
      "dtypes: float64(5), int64(4), object(10)\n",
      "memory usage: 6.4+ MB\n"
     ]
    }
   ],
   "source": [
    "df.info()"
   ]
  },
  {
   "cell_type": "code",
   "execution_count": 6,
   "id": "54766bea-eeac-46e0-8833-21afd40f0ffa",
   "metadata": {},
   "outputs": [
    {
     "name": "stdout",
     "output_type": "stream",
     "text": [
      "['ID', 'ТИП', 'ПОДТИП', 'ССЫЛКА НА ПОСТ', 'НАЗВАНИЕ ВЛАДЕЛЬЦА', 'ПОДПИСЧИКОВ', 'ССЫЛКА НА ВЛАДЕЛЬЦА СТЕНЫ', 'ССЫЛКА НА АВТОРА ПОСТА', 'АВТОРСТВО', 'ССЫЛКА НА ПОСТ С УЧЁТОМ АВТОРА', 'ДАТА ПУБЛИКАЦИИ', 'ТЕКСТ', 'ЛАЙКОВ', 'РЕПОСТОВ', 'КОММЕНТАРИЕВ', 'ПРОСМОТРОВ', 'ВНЕШНИЙ_ИСТОЧНИК', 'ИСТОЧНИК', 'НАЗВАНИЕ ИСТОЧНИКА']\n"
     ]
    }
   ],
   "source": [
    "cols = [col for col in df.columns]\n",
    "print(cols)"
   ]
  },
  {
   "cell_type": "code",
   "execution_count": 7,
   "id": "7c75f26c-bb08-4507-9b12-ca641f4e0aec",
   "metadata": {},
   "outputs": [],
   "source": [
    "import pandas as pd\n",
    "import openpyxl\n",
    "\n",
    "# читаем файл Excel\n",
    "wb = openpyxl.load_workbook('ВКР/Base.xlsx')\n",
    "ws = wb.active\n",
    "\n",
    "\n",
    "# получаем значения столбцов H, C и D - можно через ord, например: ord('C')-64\n",
    "links = [cell.value for row in ws.iter_rows(min_row=2, max_row=56, min_col=8, max_col=8) for cell in row] # H - 8, строки с 2 по 56\n",
    "types = [cell.value for row in ws.iter_rows(min_row=2, max_row=56, min_col=3, max_col=3) for cell in row]\n",
    "subtypes = [cell.value for row in ws.iter_rows(min_row=2, max_row=56, min_col=4, max_col=4) for cell in row]\n",
    "\n",
    "# присваиваем значения столбца 'type' в зависимости от значения столбца 'link'\n",
    "for i, row in df.iterrows():\n",
    "    if row['ССЫЛКА НА ВЛАДЕЛЬЦА СТЕНЫ'] in links:\n",
    "        index = links.index(row['ССЫЛКА НА ВЛАДЕЛЬЦА СТЕНЫ'])\n",
    "        df.at[i, 'ТИП'] = types[index]\n",
    "        df.at[i, 'ПОДТИП'] = subtypes[index]\n",
    "\n"
   ]
  },
  {
   "cell_type": "code",
   "execution_count": 1,
   "id": "16436943-45e1-449d-a717-d7637eacbfe1",
   "metadata": {},
   "outputs": [
    {
     "ename": "NameError",
     "evalue": "name 'df' is not defined",
     "output_type": "error",
     "traceback": [
      "\u001b[1;31m---------------------------------------------------------------------------\u001b[0m",
      "\u001b[1;31mNameError\u001b[0m                                 Traceback (most recent call last)",
      "\u001b[1;32m~\\AppData\\Local\\Temp/ipykernel_2064/1396537375.py\u001b[0m in \u001b[0;36m<module>\u001b[1;34m\u001b[0m\n\u001b[1;32m----> 1\u001b[1;33m \u001b[0mdf\u001b[0m\u001b[1;33m\u001b[0m\u001b[1;33m\u001b[0m\u001b[0m\n\u001b[0m",
      "\u001b[1;31mNameError\u001b[0m: name 'df' is not defined"
     ]
    }
   ],
   "source": [
    "df"
   ]
  },
  {
   "cell_type": "code",
   "execution_count": 9,
   "id": "e359f84a-c04b-4f95-8b60-dc16f0543113",
   "metadata": {},
   "outputs": [],
   "source": [
    "df['ТЕКСТ2'] = df['ТЕКСТ']"
   ]
  },
  {
   "cell_type": "code",
   "execution_count": 10,
   "id": "500a3c79-4a45-4965-a185-289d1de74235",
   "metadata": {
    "tags": []
   },
   "outputs": [
    {
     "name": "stdout",
     "output_type": "stream",
     "text": [
      "Cleaning text...\n",
      "Successful!\n",
      "---------------------------------\n"
     ]
    }
   ],
   "source": [
    "import re\n",
    "\n",
    "print(\"Cleaning text...\")\n",
    "with open(\"C:/myR/stopwords.txt\", \"r\", encoding=\"UTF-8\") as file:\n",
    "    stop_words = set(map(str.strip, file))\n",
    "\n",
    "\n",
    "df['ТЕКСТ2'] = df['ТЕКСТ']\n",
    "df['ТЕКСТ2'] = df['ТЕКСТ2'].str.lower().str.replace(\"<[^>]*>\", \" \", regex=True) #Удаляем знаки\n",
    "df['ТЕКСТ2'] = df['ТЕКСТ2'].str.replace(\"\\r|\\n\", \"\", regex=True) #Удаляем переходы на новую строку\n",
    "df['ТЕКСТ2'] = df['ТЕКСТ2'].str.replace(\"\\[[^[]*\\|\", \"\", regex=True)\n",
    "df['ТЕКСТ2'] = df['ТЕКСТ2'].str.replace(\"[^\\w\\s]\", \" \", regex=True)\n",
    "df['ТЕКСТ2'] = df['ТЕКСТ2'].str.replace(\"ё\", \"е\", regex=True) #Заменяем \"ё\" на \"е\"\n",
    "df['ТЕКСТ2'] = df['ТЕКСТ2'].str.replace(\"\\s\\s+\", \" \", regex=True)\n",
    "df['ТЕКСТ2'] = df['ТЕКСТ2'].str.replace(\"\\d\", \"\", regex=True) #Удаляем цифры\n",
    "df['ТЕКСТ2'] = df['ТЕКСТ2'].str.replace(\"  \", \" \", regex=True) #Удаляем двойные пробелы\n",
    "df['ТЕКСТ2'] = df['ТЕКСТ2'].str.strip() #Удаляем пробелы в обоих концах строк\n",
    "df['ТЕКСТ2'] = df['ТЕКСТ2'].str.replace(\"[a-z]\", \"\", regex=True)\n",
    "df['ТЕКСТ2'] = df['ТЕКСТ2'].str.replace(\"[A-Z]\", \"\", regex=True)\n",
    "\n",
    "\n",
    "# Удаляем стоп-слова\n",
    "df['ТЕКСТ2'] = df['ТЕКСТ2'].apply(lambda x: ' '.join(filter(lambda word: word not in stop_words, x.split())) if isinstance(x, str) else x)\n",
    "\n",
    "print(\"Successful!\")\n",
    "print(\"---------------------------------\")\n",
    "\n"
   ]
  },
  {
   "cell_type": "code",
   "execution_count": 11,
   "id": "d33f39dc-6c7b-412c-b008-bf0b5cdb7667",
   "metadata": {},
   "outputs": [
    {
     "data": {
      "text/plain": [
       "0        состоится прямой эфир пресс студии калининског...\n",
       "1          площадь ленина год фото архива сергея потемкина\n",
       "2        продолжаем квн первая игра лиги квн малая нева...\n",
       "3        уличные выступления неотъемлемая часть петербу...\n",
       "4        центральная районная библиотека белинского цен...\n",
       "                               ...                        \n",
       "43954    устремленные солнцу побеги синих высот выраста...\n",
       "43955    жители домов рядом парком сахарова жалуются пы...\n",
       "43956    друзья прямо умельцы справившиеся забором квс ...\n",
       "43957    друзья разбавим трудовое утро наверняка тронет...\n",
       "43958    друзья дворах рядом стройкой разворачивается т...\n",
       "Name: ТЕКСТ2, Length: 43959, dtype: object"
      ]
     },
     "execution_count": 11,
     "metadata": {},
     "output_type": "execute_result"
    }
   ],
   "source": [
    "df['ТЕКСТ2']"
   ]
  },
  {
   "cell_type": "code",
   "execution_count": 12,
   "id": "443eaa40-7982-4634-8abc-e1bd227e7518",
   "metadata": {},
   "outputs": [],
   "source": [
    "df['ТЕКСТ3'] = df['ТЕКСТ2']"
   ]
  },
  {
   "cell_type": "code",
   "execution_count": 16,
   "id": "02eaccf1-001b-43f7-981f-d26b754eccc1",
   "metadata": {},
   "outputs": [
    {
     "name": "stdout",
     "output_type": "stream",
     "text": [
      "Lemmatizing text...\n",
      " \n",
      "Successful!\n",
      "---------------------------------\n"
     ]
    }
   ],
   "source": [
    "from concurrent.futures import ThreadPoolExecutor\n",
    "from pymystem3 import Mystem\n",
    "\n",
    "### Здесь мы создаем функцию lemmatize_text, которая принимает на вход текст и возвращает лемматизированный текст \n",
    "\n",
    "def lemmatize_text(text):                         \n",
    "    m = Mystem()\n",
    "    lemmas = m.lemmatize(text)                       #лемматизируем текст\n",
    "    list_len = len(lemmas)                           #узнаем количество слов в list'е lemmas (удвоенное)\n",
    "    if list_len > 0:                                 #проверяем есть ли слова в посте\n",
    "        if list_len == 2:                            #проверяем больше ли одного слова в посте\n",
    "            mystr = lemmas[0]                        #приравниваем строку для записи в csv файл с единственным словом в посте\n",
    "        elif list_len > 2:                           # == если в посте больше двух слов\n",
    "            list_len -= 2                            # кол-во элементов в списке на 1 больше индекса последнего элемента списка;\n",
    "            mystr = \"\"                               # последний элемент данного списка == '\\n'\n",
    "            i = 0\n",
    "            while i <= list_len:                       #цикл считывания лемм\n",
    "                mystr += lemmas[i] + \" \"               #прибавляем слова к строке для записи с пробелом на конце\n",
    "                i += 2                               #так как в списке все слова имеют четный индекс, то прибавляем 2\n",
    "        return mystr.strip()\n",
    "    else:\n",
    "        return \"\"                               \n",
    "\n",
    "\n",
    "    \n",
    "def process_chunk(chunk):                             # каждый chunk состояит из 1/n куска df\n",
    "    \n",
    "    for i, row in chunk.iterrows():\n",
    "        text = row['ТЕКСТ2']\n",
    "        if isinstance(text, str):\n",
    "            lemmatized_text = lemmatize_text(text)\n",
    "            df.at[i, 'ТЕКСТ3'] = lemmatized_text\n",
    "            \n",
    "      \n",
    "\n",
    "    \n",
    "def process_data_in_parallel(data, num_threads):               # распараллеливание процесса\n",
    "    chunk_size = len(data) // num_threads\n",
    "    chunks = [data.iloc[i:i+chunk_size] for i in range(0, len(data), chunk_size)]\n",
    "    with ThreadPoolExecutor(max_workers=num_threads) as executor:\n",
    "        executor.map(process_chunk, chunks)\n",
    "\n",
    "\n",
    "print(\"Lemmatizing text...\") \n",
    "process_data_in_parallel(df, 4)        # 4 - n - количество параллельных процессов\n",
    "print(' ')\n",
    "print(\"Successful!\")\n",
    "print(\"---------------------------------\")"
   ]
  },
  {
   "cell_type": "code",
   "execution_count": 17,
   "id": "cfed1571-4eb4-4fb1-a7e5-0b03a92880eb",
   "metadata": {},
   "outputs": [
    {
     "data": {
      "text/plain": [
       "0        состояться прямой эфир пресс студия калинински...\n",
       "1             площадь ленин год фото архив сергей потемкин\n",
       "2        продолжать квн первый игра лига квн малый нева...\n",
       "3        уличный выступление неотъемлемый часть петербу...\n",
       "4        центральный районный библиотека белинский цент...\n",
       "                               ...                        \n",
       "43954    устремленные солнцу побеги синих высот выраста...\n",
       "43955    жители домов рядом парком сахарова жалуются пы...\n",
       "43956    друг прямо умелец справляться забор квс пытать...\n",
       "43957    друг разбавлять трудовой утро наверняка тронут...\n",
       "43958    друг двор рядом стройка разворачиваться трагик...\n",
       "Name: ТЕКСТ3, Length: 43959, dtype: object"
      ]
     },
     "execution_count": 17,
     "metadata": {},
     "output_type": "execute_result"
    }
   ],
   "source": [
    "df['ТЕКСТ3']"
   ]
  },
  {
   "cell_type": "code",
   "execution_count": 18,
   "id": "81233ee8-fbd5-4819-a690-da19abbc230f",
   "metadata": {},
   "outputs": [
    {
     "name": "stderr",
     "output_type": "stream",
     "text": [
      "[nltk_data] Downloading package punkt to\n",
      "[nltk_data]     C:\\Users\\msvic\\AppData\\Roaming\\nltk_data...\n",
      "[nltk_data]   Package punkt is already up-to-date!\n"
     ]
    },
    {
     "data": {
      "text/plain": [
       "True"
      ]
     },
     "execution_count": 18,
     "metadata": {},
     "output_type": "execute_result"
    }
   ],
   "source": [
    "import nltk         #  pip install nltk\n",
    "import pymorphy2    #  pip install pymorphy2 pymorphy2-dicts\n",
    "nltk.download('punkt')"
   ]
  },
  {
   "cell_type": "raw",
   "id": "13ac27ca-f1d9-407d-ac3a-8a71e75cf125",
   "metadata": {},
   "source": [
    "df['text'] = df['ТЕКСТ2']"
   ]
  },
  {
   "cell_type": "code",
   "execution_count": 26,
   "id": "adcab3b2-7b5e-4b97-a462-801ef379e973",
   "metadata": {},
   "outputs": [
    {
     "ename": "NameError",
     "evalue": "name 'text' is not defined",
     "output_type": "error",
     "traceback": [
      "\u001b[1;31m---------------------------------------------------------------------------\u001b[0m",
      "\u001b[1;31mNameError\u001b[0m                                 Traceback (most recent call last)",
      "\u001b[1;32m~\\AppData\\Local\\Temp/ipykernel_15552/1042022009.py\u001b[0m in \u001b[0;36m<module>\u001b[1;34m\u001b[0m\n\u001b[1;32m----> 1\u001b[1;33m \u001b[0mtext\u001b[0m\u001b[1;33m\u001b[0m\u001b[1;33m\u001b[0m\u001b[0m\n\u001b[0m",
      "\u001b[1;31mNameError\u001b[0m: name 'text' is not defined"
     ]
    }
   ],
   "source": [
    "text"
   ]
  },
  {
   "cell_type": "code",
   "execution_count": 29,
   "id": "e6ef069d-72da-4520-ac3d-c2f437b77d30",
   "metadata": {},
   "outputs": [],
   "source": [
    "morph = pymorphy2.MorphAnalyzer()        #создать экземпляр класса MorphAnalyzer.\n",
    "\n",
    "\n",
    "#Создать функцию count_imperative_verbs, которая будет принимать текст и экземпляр класса MorphAnalyzer, \n",
    "#а затем использовать его для определения частей речи и проверки, содержится ли глагол в повелительном наклонении.\n",
    "\n",
    "def count_imperative_verbs(text):\n",
    "    if isinstance(text, str):\n",
    "        words = text.split()\n",
    "        count = 0\n",
    "        for word in words:\n",
    "            parsed_word = morph.parse(word)[0]\n",
    "            if 'VERB' in parsed_word.tag and 'impr' in parsed_word.tag:\n",
    "                count += 1\n",
    "        return count\n",
    "    else:\n",
    "        return 0\n",
    "\n",
    "def count_past_verbs(text):\n",
    "    if isinstance(text, str):\n",
    "        words = text.split()\n",
    "        count = 0\n",
    "        for word in words:\n",
    "            parsed_word = morph.parse(word)[0]\n",
    "            if 'VERB' in parsed_word.tag and 'past' in parsed_word.tag:\n",
    "                count += 1\n",
    "        return count\n",
    "    else:\n",
    "        return 0\n",
    "\n",
    "\n",
    "def count_punctuation(text, punctuation):\n",
    "    if isinstance(text, str):\n",
    "        return text.count(punctuation)\n",
    "    else:\n",
    "        return 0\n",
    "    \n",
    "def count_len(text):\n",
    "    if isinstance(text, str):\n",
    "        return len(text)\n",
    "    else:\n",
    "        return 0\n",
    "        \n",
    "\n",
    "df['!'] = df['ТЕКСТ'].apply(lambda x: count_punctuation(x, '!'))\n",
    "df['?'] = df['ТЕКСТ'].apply(lambda x: count_punctuation(x, '?'))\n",
    "df['...'] = df['ТЕКСТ'].apply(lambda x: count_punctuation(x, '...'))\n",
    "df['ДЛИНА'] = df['ТЕКСТ3'].apply(lambda x: count_len(x))\n",
    "df['ИМПЕРАТИВ'] = df['ТЕКСТ2'].apply(lambda x: count_imperative_verbs(x))\n",
    "df['ПРОШЕДШЕЕ'] = df['ТЕКСТ2'].apply(lambda x: count_past_verbs(x))"
   ]
  },
  {
   "cell_type": "code",
   "execution_count": 2,
   "id": "239cf632-49cd-4cfd-a66c-84da1d70ece8",
   "metadata": {},
   "outputs": [
    {
     "ename": "NameError",
     "evalue": "name 'df' is not defined",
     "output_type": "error",
     "traceback": [
      "\u001b[1;31m---------------------------------------------------------------------------\u001b[0m",
      "\u001b[1;31mNameError\u001b[0m                                 Traceback (most recent call last)",
      "\u001b[1;32m~\\AppData\\Local\\Temp/ipykernel_2064/1396537375.py\u001b[0m in \u001b[0;36m<module>\u001b[1;34m\u001b[0m\n\u001b[1;32m----> 1\u001b[1;33m \u001b[0mdf\u001b[0m\u001b[1;33m\u001b[0m\u001b[1;33m\u001b[0m\u001b[0m\n\u001b[0m",
      "\u001b[1;31mNameError\u001b[0m: name 'df' is not defined"
     ]
    }
   ],
   "source": [
    "df"
   ]
  },
  {
   "cell_type": "code",
   "execution_count": null,
   "id": "47c4a0ac-e6b7-4239-a5a3-39e366109a8b",
   "metadata": {},
   "outputs": [],
   "source": [
    "tokenizer = RegexTokenizer()\n",
    "model = FastTextSocialNetworkModel(tokenizer=tokenizer)\n",
    "print(\"Calculating tonalities...\")"
   ]
  },
  {
   "cell_type": "code",
   "execution_count": 45,
   "id": "777c4ecf-a577-4350-87d5-9e6c4a2631ef",
   "metadata": {},
   "outputs": [],
   "source": [
    "dat_text = df['ТЕКСТ2'].tolist()\n",
    "results = []\n",
    "for text in dat_text:\n",
    "    if isinstance(text, str):\n",
    "        result = model.predict(text, k=3)\n",
    "        results.append(result)\n",
    "    else:\n",
    "        results.append(None)"
   ]
  },
  {
   "cell_type": "code",
   "execution_count": 42,
   "id": "9e8a35c2-380a-4646-bfa6-5db083a69053",
   "metadata": {},
   "outputs": [
    {
     "name": "stdout",
     "output_type": "stream",
     "text": [
      "Calculating tonalities...\n",
      "Successful!\n",
      "---------------------------------\n"
     ]
    },
    {
     "name": "stderr",
     "output_type": "stream",
     "text": [
      "Warning : `load_model` does not return WordVectorModel or SupervisedModel any more, but a `FastText` object which is very similar.\n"
     ]
    }
   ],
   "source": [
    "tokenizer = RegexTokenizer()\n",
    "model = FastTextSocialNetworkModel(tokenizer=tokenizer)\n",
    "print(\"Calculating tonalities...\")\n",
    "\n",
    "dat_text = df['ТЕКСТ2']\n",
    "results = model.predict(str(dat_text), k=3)\n",
    "\n",
    "print(\"Successful!\")\n",
    "print(\"---------------------------------\")"
   ]
  },
  {
   "cell_type": "code",
   "execution_count": 48,
   "id": "e3a3ef0e-3d20-4306-b8bb-c4f4e326b295",
   "metadata": {},
   "outputs": [],
   "source": [
    "df[['ПОЗИТИВНОСТЬ', 'НЕЙТРАЛЬНОСТЬ', 'НЕГАТИВНОСТЬ', 'СЕНТИМЕНТ', 'ТОНАЛЬНОСТЬ']] = 0\n",
    "numofrows = df.shape[0] #Количество строк в файле\n",
    "dat_text = list(df['ТЕКСТ2'])"
   ]
  },
  {
   "cell_type": "code",
   "execution_count": null,
   "id": "485cb858-115a-4274-bcab-5a949501ec5c",
   "metadata": {},
   "outputs": [],
   "source": []
  },
  {
   "cell_type": "code",
   "execution_count": 22,
   "id": "ffcef25b-f536-4c48-aed1-cffe9e74607b",
   "metadata": {},
   "outputs": [
    {
     "data": {
      "text/plain": [
       "13"
      ]
     },
     "execution_count": 22,
     "metadata": {},
     "output_type": "execute_result"
    }
   ],
   "source": [
    "numofrows"
   ]
  },
  {
   "cell_type": "code",
   "execution_count": null,
   "id": "ebbe348e-dca4-4a1c-9d4d-1df0cfcd25bb",
   "metadata": {},
   "outputs": [],
   "source": [
    "dat_pos = df['ПОЗИТИВНОСТЬ']\n",
    "dat_neu = df['НЕЙТРАЛЬНОСТЬ']\n",
    "dat_neg = df['НЕГАТИВНОСТЬ'] \n",
    "print(\"Saving results of prediction...\")\n",
    "        \n"
   ]
  },
  {
   "cell_type": "code",
   "execution_count": null,
   "id": "537aab48-81bb-4ccb-a828-73fd88b7d8e3",
   "metadata": {},
   "outputs": [],
   "source": [
    "def process_row(i):\n",
    "    if type(dat_text[i]) is str:\n",
    "        try:\n",
    "            df.loc[i, 'ПОЗИТИВНОСТЬ'] = results[i]['positive']\n",
    "        except KeyError:\n",
    "            df.loc[i, 'ПОЗИТИВНОСТЬ'] = 0\n",
    "        try:\n",
    "            df.loc[i, 'НЕЙТРАЛЬНОСТЬ'] = results[i]['neutral']\n",
    "        except KeyError:\n",
    "            df.loc[i, 'НЕЙТРАЛЬНОСТЬ'] = 0\n",
    "        try:\n",
    "            df.loc[i, 'НЕГАТИВНОСТЬ'] = results[i]['negative']\n",
    "        except KeyError:\n",
    "            df.loc[i, 'НЕГАТИВНОСТЬ'] = 0\n",
    "    else:\n",
    "        df.loc[i, 'ПОЗИТИВНОСТЬ'] = 0\n",
    "        df.loc[i, 'НЕЙТРАЛЬНОСТЬ'] = 0\n",
    "        df.loc[i, 'НЕГАТИВНОСТЬ'] = 0\n",
    "\n",
    "    if (dat_pos[i] > dat_neu[i]) and (dat_pos[i] > dat_neg[i]):\n",
    "        df.loc[i, 'СЕНТИМЕНТ'] = 1\n",
    "        df.loc[i, 'ТОНАЛЬНОСТЬ'] = dat_pos[i]\n",
    "    elif (dat_neu[i] > dat_neg[i]):\n",
    "        df.loc[i, 'СЕНТИМЕНТ'] = 2\n",
    "        df.loc[i, 'ТОНАЛЬНОСТЬ'] = dat_neu[i]\n",
    "    else:\n",
    "        df.loc[i, 'СЕНТИМЕНТ'] = 3\n",
    "        df.loc[i, 'ТОНАЛЬНОСТЬ'] = dat_neg[i]\n",
    "        \n",
    "        \n",
    "with ThreadPoolExecutor(max_workers=4) as executor:\n",
    "    executor.map(process_row, range(numofrows))\n",
    "\n",
    "\n",
    "\n",
    "print(\"\\nSuccessful!\")\n",
    "print(\"---------------------------------\")"
   ]
  },
  {
   "cell_type": "code",
   "execution_count": null,
   "id": "4470a8c7-30d1-4943-b02c-88f8aeb7ccd6",
   "metadata": {},
   "outputs": [],
   "source": [
    "df"
   ]
  },
  {
   "cell_type": "code",
   "execution_count": null,
   "id": "9ec637e1-f4d9-47c6-900b-ad38a427d53b",
   "metadata": {},
   "outputs": [],
   "source": [
    "# сохранение измененного файла csv\n",
    "df.to_csv('POSTS_KALIN.csv', sep=';')"
   ]
  },
  {
   "cell_type": "raw",
   "id": "f3af527e-9d86-4ccf-80cd-5f431b7b8178",
   "metadata": {},
   "source": [
    "import matplotlib.pyplot as plt"
   ]
  },
  {
   "cell_type": "raw",
   "id": "e5586e3e-bbef-4320-a1ed-67a9d1677604",
   "metadata": {},
   "source": [
    "import pandas as pd\n",
    "import numpy as np\n",
    "import nltk\n",
    "from nltk.corpus import stopwords\n",
    "from nltk.tokenize import word_tokenize\n",
    "from gensim import corpora, models\n",
    "import pyLDAvis.gensim_models\n",
    "nltk.download('wordnet')\n",
    "\n"
   ]
  },
  {
   "cell_type": "code",
   "execution_count": null,
   "id": "8eddd6b3-a042-4046-9372-44d507b0f9bc",
   "metadata": {},
   "outputs": [],
   "source": []
  },
  {
   "cell_type": "raw",
   "id": "d5fa335b-4843-47cc-b40b-c160738cb699",
   "metadata": {},
   "source": [
    "\n",
    "# Разбиение датафрейма на подмножества по значению столбца links\n",
    "subsets = []\n",
    "for link in df['НАЗВАНИЕ ВЛАДЕЛЬЦА'].unique():\n",
    "    subsets.append(df[df['НАЗВАНИЕ ВЛАДЕЛЬЦА'] == link])\n"
   ]
  },
  {
   "cell_type": "raw",
   "id": "b974108e-6523-4a09-ba74-9f6002a4ec35",
   "metadata": {},
   "source": [
    "\n",
    "# Функция для обработки текста\n",
    "def process_text(text):\n",
    "    global tokens\n",
    "    # Токенизация\n",
    "    tokens = word_tokenize(str(text).lower())\n",
    "    # Удаление стоп-слов\n",
    "    stop_words = set(stopwords.words('russian'))\n",
    "    tokens = [token for token in tokens if token not in stop_words]\n",
    "    # Удаление пунктуации и цифр\n",
    "    tokens = [token for token in tokens if token.isalpha()]\n",
    "    # Лемматизация\n",
    "    lemmatizer = nltk.WordNetLemmatizer()\n",
    "    tokens = [lemmatizer.lemmatize(token) for token in tokens]\n",
    "    return tokens\n",
    "\n",
    "\n",
    "# Функция для выполнения тематического моделирования LDA\n",
    "def run_lda(texts, num_topics):\n",
    "    global dictionary\n",
    "    # Создание словаря\n",
    "    dictionary = corpora.Dictionary(texts)\n",
    "    # Создание корпуса\n",
    "    corpus = [dictionary.doc2bow(text) for text in texts]\n",
    "    # Выполнение LDA\n",
    "    lda_model = models.ldamodel.LdaModel(corpus=corpus, id2word=dictionary, num_topics=num_topics, passes=10)\n",
    "    # Возвращение модели\n",
    "    return dictionary\n",
    "\n",
    "    \n",
    " "
   ]
  },
  {
   "cell_type": "raw",
   "id": "7dc7efcb-f497-4cd4-8bd8-89c8866ac0a9",
   "metadata": {},
   "source": [
    "   # Выполнение тематического моделирования для каждого подмножества\n",
    "for subset in subsets:\n",
    "    # Фильтрация текстов по длине\n",
    "    subset = subset[subset['ТЕКСТ3'].apply(lambda x: len(x) > 10)]\n",
    "    # Обработка текстов\n",
    "    texts = [process_text(text) for text in subset['ТЕКСТ3']]\n",
    "    # Выполнение тематического моделирования\n",
    "    lda_model = run_lda(texts, num_topics=4)\n",
    "    # Присвоение каждой ячейке значение тематики\n",
    "    #subset['ТОПИК'] = [np.argmax(lda_model[dictionary.doc2bow(process_text(text))])[0] + 1 for text in subset['ТЕКСТ3']]\n",
    "    #subset['ТОПИК'] = np.argmax(lda_model(tuple([dictionary.doc2bow(process_text(text))])[0] + 1 for text in subset['ТЕКСТ3']))\n",
    "    for i in range(1, len(texts)+1):\n",
    "        subset['ТОПИК'] = np.argmax(lda_model[dictionary.doc2bow(process_text(texts[i]))])\n",
    "    # Визуализация тематического моделирования с помощью пузырьков\n",
    "    vis_data = pyLDAvis.gensim_models.prepare(lda_model, corpus, dictionary)\n",
    "    pyLDAvis.display(vis_data)\n",
    "        #plt.show()"
   ]
  },
  {
   "cell_type": "code",
   "execution_count": 87,
   "id": "fe56c161-5a59-49a7-88f7-be22d3977591",
   "metadata": {},
   "outputs": [
    {
     "data": {
      "text/plain": [
       "1"
      ]
     },
     "execution_count": 87,
     "metadata": {},
     "output_type": "execute_result"
    }
   ],
   "source": [
    "i"
   ]
  },
  {
   "cell_type": "code",
   "execution_count": 81,
   "id": "f1cdb294-e650-4b65-98d0-4e2c53ca474b",
   "metadata": {},
   "outputs": [
    {
     "data": {
      "text/plain": [
       "['площадь', 'ленин', 'год', 'фото', 'архив', 'сергей', 'потемкин']"
      ]
     },
     "execution_count": 81,
     "metadata": {},
     "output_type": "execute_result"
    }
   ],
   "source": [
    "process_text(subset['ТЕКСТ3'][1])"
   ]
  },
  {
   "cell_type": "code",
   "execution_count": 74,
   "id": "02aae5d7-121b-473e-ab87-3c4f46419510",
   "metadata": {},
   "outputs": [
    {
     "data": {
      "text/html": [
       "<div>\n",
       "<style scoped>\n",
       "    .dataframe tbody tr th:only-of-type {\n",
       "        vertical-align: middle;\n",
       "    }\n",
       "\n",
       "    .dataframe tbody tr th {\n",
       "        vertical-align: top;\n",
       "    }\n",
       "\n",
       "    .dataframe thead th {\n",
       "        text-align: right;\n",
       "    }\n",
       "</style>\n",
       "<table border=\"1\" class=\"dataframe\">\n",
       "  <thead>\n",
       "    <tr style=\"text-align: right;\">\n",
       "      <th></th>\n",
       "      <th>ID</th>\n",
       "      <th>ТИП</th>\n",
       "      <th>ПОДТИП</th>\n",
       "      <th>ССЫЛКА НА ПОСТ</th>\n",
       "      <th>НАЗВАНИЕ ВЛАДЕЛЬЦА</th>\n",
       "      <th>ПОДПИСЧИКОВ</th>\n",
       "      <th>ССЫЛКА НА ВЛАДЕЛЬЦА СТЕНЫ</th>\n",
       "      <th>ССЫЛКА НА АВТОРА ПОСТА</th>\n",
       "      <th>АВТОРСТВО</th>\n",
       "      <th>ССЫЛКА НА ПОСТ С УЧЁТОМ АВТОРА</th>\n",
       "      <th>...</th>\n",
       "      <th>!</th>\n",
       "      <th>?</th>\n",
       "      <th>...</th>\n",
       "      <th>ИМПЕРАТИВ</th>\n",
       "      <th>ПРОШЕДШЕЕ</th>\n",
       "      <th>ПОЗИТИВНОСТЬ</th>\n",
       "      <th>НЕЙТРАЛЬНОСТЬ</th>\n",
       "      <th>НЕГАТИВНОСТЬ</th>\n",
       "      <th>СЕНТИМЕНТ</th>\n",
       "      <th>ТОНАЛЬНОСТЬ</th>\n",
       "    </tr>\n",
       "  </thead>\n",
       "  <tbody>\n",
       "    <tr>\n",
       "      <th>0</th>\n",
       "      <td>1</td>\n",
       "      <td>official</td>\n",
       "      <td>dist</td>\n",
       "      <td>https://vk.com/wall-23904_314207</td>\n",
       "      <td>Калининский район Санкт-Петербурга</td>\n",
       "      <td>65311</td>\n",
       "      <td>https://vk.com/club23904</td>\n",
       "      <td>https://vk.com/club23904</td>\n",
       "      <td>1</td>\n",
       "      <td>https://vk.com/club23904?w=wall-23904_314207</td>\n",
       "      <td>...</td>\n",
       "      <td>0</td>\n",
       "      <td>0</td>\n",
       "      <td>0</td>\n",
       "      <td>0</td>\n",
       "      <td>1</td>\n",
       "      <td>0.000000</td>\n",
       "      <td>0.877487</td>\n",
       "      <td>0.129413</td>\n",
       "      <td>3</td>\n",
       "      <td>0</td>\n",
       "    </tr>\n",
       "    <tr>\n",
       "      <th>1</th>\n",
       "      <td>2</td>\n",
       "      <td>official</td>\n",
       "      <td>dist</td>\n",
       "      <td>https://vk.com/wall-23904_314705</td>\n",
       "      <td>Калининский район Санкт-Петербурга</td>\n",
       "      <td>65311</td>\n",
       "      <td>https://vk.com/club23904</td>\n",
       "      <td>https://vk.com/club23904</td>\n",
       "      <td>1</td>\n",
       "      <td>https://vk.com/club23904?w=wall-23904_314705</td>\n",
       "      <td>...</td>\n",
       "      <td>0</td>\n",
       "      <td>0</td>\n",
       "      <td>0</td>\n",
       "      <td>0</td>\n",
       "      <td>0</td>\n",
       "      <td>0.000000</td>\n",
       "      <td>0.672342</td>\n",
       "      <td>0.071601</td>\n",
       "      <td>3</td>\n",
       "      <td>0</td>\n",
       "    </tr>\n",
       "    <tr>\n",
       "      <th>2</th>\n",
       "      <td>3</td>\n",
       "      <td>official</td>\n",
       "      <td>dist</td>\n",
       "      <td>https://vk.com/wall-23904_314702</td>\n",
       "      <td>Калининский район Санкт-Петербурга</td>\n",
       "      <td>65311</td>\n",
       "      <td>https://vk.com/club23904</td>\n",
       "      <td>https://vk.com/club23904</td>\n",
       "      <td>1</td>\n",
       "      <td>https://vk.com/club23904?w=wall-23904_314702</td>\n",
       "      <td>...</td>\n",
       "      <td>2</td>\n",
       "      <td>0</td>\n",
       "      <td>0</td>\n",
       "      <td>0</td>\n",
       "      <td>1</td>\n",
       "      <td>0.245095</td>\n",
       "      <td>0.422515</td>\n",
       "      <td>0.000000</td>\n",
       "      <td>3</td>\n",
       "      <td>0</td>\n",
       "    </tr>\n",
       "    <tr>\n",
       "      <th>3</th>\n",
       "      <td>4</td>\n",
       "      <td>official</td>\n",
       "      <td>dist</td>\n",
       "      <td>https://vk.com/wall-23904_314698</td>\n",
       "      <td>Калининский район Санкт-Петербурга</td>\n",
       "      <td>65311</td>\n",
       "      <td>https://vk.com/club23904</td>\n",
       "      <td>https://vk.com/club23904</td>\n",
       "      <td>1</td>\n",
       "      <td>https://vk.com/club23904?w=wall-23904_314698</td>\n",
       "      <td>...</td>\n",
       "      <td>0</td>\n",
       "      <td>0</td>\n",
       "      <td>0</td>\n",
       "      <td>0</td>\n",
       "      <td>3</td>\n",
       "      <td>0.092698</td>\n",
       "      <td>0.629785</td>\n",
       "      <td>0.228166</td>\n",
       "      <td>3</td>\n",
       "      <td>0</td>\n",
       "    </tr>\n",
       "    <tr>\n",
       "      <th>4</th>\n",
       "      <td>5</td>\n",
       "      <td>official</td>\n",
       "      <td>dist</td>\n",
       "      <td>https://vk.com/wall-23904_314695</td>\n",
       "      <td>Калининский район Санкт-Петербурга</td>\n",
       "      <td>65311</td>\n",
       "      <td>https://vk.com/club23904</td>\n",
       "      <td>https://vk.com/club23904</td>\n",
       "      <td>1</td>\n",
       "      <td>https://vk.com/club23904?w=wall-23904_314695</td>\n",
       "      <td>...</td>\n",
       "      <td>3</td>\n",
       "      <td>0</td>\n",
       "      <td>0</td>\n",
       "      <td>0</td>\n",
       "      <td>0</td>\n",
       "      <td>0.069552</td>\n",
       "      <td>0.712242</td>\n",
       "      <td>0.125933</td>\n",
       "      <td>3</td>\n",
       "      <td>0</td>\n",
       "    </tr>\n",
       "    <tr>\n",
       "      <th>5</th>\n",
       "      <td>6</td>\n",
       "      <td>official</td>\n",
       "      <td>dist</td>\n",
       "      <td>https://vk.com/wall-23904_314692</td>\n",
       "      <td>Калининский район Санкт-Петербурга</td>\n",
       "      <td>65311</td>\n",
       "      <td>https://vk.com/club23904</td>\n",
       "      <td>https://vk.com/club23904</td>\n",
       "      <td>1</td>\n",
       "      <td>https://vk.com/club23904?w=wall-23904_314692</td>\n",
       "      <td>...</td>\n",
       "      <td>4</td>\n",
       "      <td>0</td>\n",
       "      <td>0</td>\n",
       "      <td>2</td>\n",
       "      <td>0</td>\n",
       "      <td>0.173298</td>\n",
       "      <td>0.554480</td>\n",
       "      <td>0.069552</td>\n",
       "      <td>3</td>\n",
       "      <td>0</td>\n",
       "    </tr>\n",
       "    <tr>\n",
       "      <th>6</th>\n",
       "      <td>7</td>\n",
       "      <td>official</td>\n",
       "      <td>dist</td>\n",
       "      <td>https://vk.com/wall-23904_314690</td>\n",
       "      <td>Калининский район Санкт-Петербурга</td>\n",
       "      <td>65311</td>\n",
       "      <td>https://vk.com/club23904</td>\n",
       "      <td>https://vk.com/club23904</td>\n",
       "      <td>1</td>\n",
       "      <td>https://vk.com/club23904?w=wall-23904_314690</td>\n",
       "      <td>...</td>\n",
       "      <td>0</td>\n",
       "      <td>0</td>\n",
       "      <td>0</td>\n",
       "      <td>0</td>\n",
       "      <td>6</td>\n",
       "      <td>0.206904</td>\n",
       "      <td>0.437833</td>\n",
       "      <td>0.196836</td>\n",
       "      <td>3</td>\n",
       "      <td>0</td>\n",
       "    </tr>\n",
       "    <tr>\n",
       "      <th>7</th>\n",
       "      <td>8</td>\n",
       "      <td>official</td>\n",
       "      <td>dist</td>\n",
       "      <td>https://vk.com/wall-23904_314688</td>\n",
       "      <td>Калининский район Санкт-Петербурга</td>\n",
       "      <td>65311</td>\n",
       "      <td>https://vk.com/club23904</td>\n",
       "      <td>https://vk.com/club23904</td>\n",
       "      <td>1</td>\n",
       "      <td>https://vk.com/club23904?w=wall-23904_314688</td>\n",
       "      <td>...</td>\n",
       "      <td>1</td>\n",
       "      <td>11</td>\n",
       "      <td>0</td>\n",
       "      <td>0</td>\n",
       "      <td>19</td>\n",
       "      <td>0.148057</td>\n",
       "      <td>0.658428</td>\n",
       "      <td>0.160276</td>\n",
       "      <td>3</td>\n",
       "      <td>0</td>\n",
       "    </tr>\n",
       "    <tr>\n",
       "      <th>8</th>\n",
       "      <td>9</td>\n",
       "      <td>official</td>\n",
       "      <td>dist</td>\n",
       "      <td>https://vk.com/wall-23904_314682</td>\n",
       "      <td>Калининский район Санкт-Петербурга</td>\n",
       "      <td>65311</td>\n",
       "      <td>https://vk.com/club23904</td>\n",
       "      <td>https://vk.com/club23904</td>\n",
       "      <td>1</td>\n",
       "      <td>https://vk.com/club23904?w=wall-23904_314682</td>\n",
       "      <td>...</td>\n",
       "      <td>8</td>\n",
       "      <td>2</td>\n",
       "      <td>0</td>\n",
       "      <td>0</td>\n",
       "      <td>10</td>\n",
       "      <td>0.196836</td>\n",
       "      <td>0.300756</td>\n",
       "      <td>0.100889</td>\n",
       "      <td>3</td>\n",
       "      <td>0</td>\n",
       "    </tr>\n",
       "    <tr>\n",
       "      <th>9</th>\n",
       "      <td>10</td>\n",
       "      <td>official</td>\n",
       "      <td>dist</td>\n",
       "      <td>https://vk.com/wall-23904_314676</td>\n",
       "      <td>Калининский район Санкт-Петербурга</td>\n",
       "      <td>65311</td>\n",
       "      <td>https://vk.com/club23904</td>\n",
       "      <td>https://vk.com/club23904</td>\n",
       "      <td>1</td>\n",
       "      <td>https://vk.com/club23904?w=wall-23904_314676</td>\n",
       "      <td>...</td>\n",
       "      <td>0</td>\n",
       "      <td>0</td>\n",
       "      <td>0</td>\n",
       "      <td>1</td>\n",
       "      <td>2</td>\n",
       "      <td>0.073706</td>\n",
       "      <td>0.665421</td>\n",
       "      <td>0.201823</td>\n",
       "      <td>3</td>\n",
       "      <td>0</td>\n",
       "    </tr>\n",
       "    <tr>\n",
       "      <th>10</th>\n",
       "      <td>11</td>\n",
       "      <td>official</td>\n",
       "      <td>dist</td>\n",
       "      <td>https://vk.com/wall-23904_314664</td>\n",
       "      <td>Калининский район Санкт-Петербурга</td>\n",
       "      <td>65311</td>\n",
       "      <td>https://vk.com/club23904</td>\n",
       "      <td>https://vk.com/club23904</td>\n",
       "      <td>1</td>\n",
       "      <td>https://vk.com/club23904?w=wall-23904_314664</td>\n",
       "      <td>...</td>\n",
       "      <td>0</td>\n",
       "      <td>0</td>\n",
       "      <td>0</td>\n",
       "      <td>0</td>\n",
       "      <td>3</td>\n",
       "      <td>0.090103</td>\n",
       "      <td>0.777310</td>\n",
       "      <td>0.125933</td>\n",
       "      <td>3</td>\n",
       "      <td>0</td>\n",
       "    </tr>\n",
       "    <tr>\n",
       "      <th>11</th>\n",
       "      <td>12</td>\n",
       "      <td>official</td>\n",
       "      <td>dist</td>\n",
       "      <td>https://vk.com/wall-23904_314659</td>\n",
       "      <td>Калининский район Санкт-Петербурга</td>\n",
       "      <td>65311</td>\n",
       "      <td>https://vk.com/club23904</td>\n",
       "      <td>https://vk.com/club23904</td>\n",
       "      <td>1</td>\n",
       "      <td>https://vk.com/club23904?w=wall-23904_314659</td>\n",
       "      <td>...</td>\n",
       "      <td>0</td>\n",
       "      <td>0</td>\n",
       "      <td>0</td>\n",
       "      <td>0</td>\n",
       "      <td>1</td>\n",
       "      <td>0.136618</td>\n",
       "      <td>0.430157</td>\n",
       "      <td>0.160276</td>\n",
       "      <td>3</td>\n",
       "      <td>0</td>\n",
       "    </tr>\n",
       "    <tr>\n",
       "      <th>12</th>\n",
       "      <td>13</td>\n",
       "      <td>official</td>\n",
       "      <td>dist</td>\n",
       "      <td>https://vk.com/wall-23904_314656</td>\n",
       "      <td>Калининский район Санкт-Петербурга</td>\n",
       "      <td>65311</td>\n",
       "      <td>https://vk.com/club23904</td>\n",
       "      <td>https://vk.com/club23904</td>\n",
       "      <td>1</td>\n",
       "      <td>https://vk.com/club23904?w=wall-23904_314656</td>\n",
       "      <td>...</td>\n",
       "      <td>0</td>\n",
       "      <td>0</td>\n",
       "      <td>0</td>\n",
       "      <td>0</td>\n",
       "      <td>11</td>\n",
       "      <td>0.080367</td>\n",
       "      <td>0.754925</td>\n",
       "      <td>0.156115</td>\n",
       "      <td>3</td>\n",
       "      <td>0</td>\n",
       "    </tr>\n",
       "  </tbody>\n",
       "</table>\n",
       "<p>13 rows × 31 columns</p>\n",
       "</div>"
      ],
      "text/plain": [
       "    ID       ТИП ПОДТИП                    ССЫЛКА НА ПОСТ   \n",
       "0    1  official   dist  https://vk.com/wall-23904_314207  \\\n",
       "1    2  official   dist  https://vk.com/wall-23904_314705   \n",
       "2    3  official   dist  https://vk.com/wall-23904_314702   \n",
       "3    4  official   dist  https://vk.com/wall-23904_314698   \n",
       "4    5  official   dist  https://vk.com/wall-23904_314695   \n",
       "5    6  official   dist  https://vk.com/wall-23904_314692   \n",
       "6    7  official   dist  https://vk.com/wall-23904_314690   \n",
       "7    8  official   dist  https://vk.com/wall-23904_314688   \n",
       "8    9  official   dist  https://vk.com/wall-23904_314682   \n",
       "9   10  official   dist  https://vk.com/wall-23904_314676   \n",
       "10  11  official   dist  https://vk.com/wall-23904_314664   \n",
       "11  12  official   dist  https://vk.com/wall-23904_314659   \n",
       "12  13  official   dist  https://vk.com/wall-23904_314656   \n",
       "\n",
       "                    НАЗВАНИЕ ВЛАДЕЛЬЦА  ПОДПИСЧИКОВ ССЫЛКА НА ВЛАДЕЛЬЦА СТЕНЫ   \n",
       "0   Калининский район Санкт-Петербурга        65311  https://vk.com/club23904  \\\n",
       "1   Калининский район Санкт-Петербурга        65311  https://vk.com/club23904   \n",
       "2   Калининский район Санкт-Петербурга        65311  https://vk.com/club23904   \n",
       "3   Калининский район Санкт-Петербурга        65311  https://vk.com/club23904   \n",
       "4   Калининский район Санкт-Петербурга        65311  https://vk.com/club23904   \n",
       "5   Калининский район Санкт-Петербурга        65311  https://vk.com/club23904   \n",
       "6   Калининский район Санкт-Петербурга        65311  https://vk.com/club23904   \n",
       "7   Калининский район Санкт-Петербурга        65311  https://vk.com/club23904   \n",
       "8   Калининский район Санкт-Петербурга        65311  https://vk.com/club23904   \n",
       "9   Калининский район Санкт-Петербурга        65311  https://vk.com/club23904   \n",
       "10  Калининский район Санкт-Петербурга        65311  https://vk.com/club23904   \n",
       "11  Калининский район Санкт-Петербурга        65311  https://vk.com/club23904   \n",
       "12  Калининский район Санкт-Петербурга        65311  https://vk.com/club23904   \n",
       "\n",
       "      ССЫЛКА НА АВТОРА ПОСТА  АВТОРСТВО   \n",
       "0   https://vk.com/club23904          1  \\\n",
       "1   https://vk.com/club23904          1   \n",
       "2   https://vk.com/club23904          1   \n",
       "3   https://vk.com/club23904          1   \n",
       "4   https://vk.com/club23904          1   \n",
       "5   https://vk.com/club23904          1   \n",
       "6   https://vk.com/club23904          1   \n",
       "7   https://vk.com/club23904          1   \n",
       "8   https://vk.com/club23904          1   \n",
       "9   https://vk.com/club23904          1   \n",
       "10  https://vk.com/club23904          1   \n",
       "11  https://vk.com/club23904          1   \n",
       "12  https://vk.com/club23904          1   \n",
       "\n",
       "                  ССЫЛКА НА ПОСТ С УЧЁТОМ АВТОРА  ...  !   ?  ...  ИМПЕРАТИВ   \n",
       "0   https://vk.com/club23904?w=wall-23904_314207  ...  0   0    0          0  \\\n",
       "1   https://vk.com/club23904?w=wall-23904_314705  ...  0   0    0          0   \n",
       "2   https://vk.com/club23904?w=wall-23904_314702  ...  2   0    0          0   \n",
       "3   https://vk.com/club23904?w=wall-23904_314698  ...  0   0    0          0   \n",
       "4   https://vk.com/club23904?w=wall-23904_314695  ...  3   0    0          0   \n",
       "5   https://vk.com/club23904?w=wall-23904_314692  ...  4   0    0          2   \n",
       "6   https://vk.com/club23904?w=wall-23904_314690  ...  0   0    0          0   \n",
       "7   https://vk.com/club23904?w=wall-23904_314688  ...  1  11    0          0   \n",
       "8   https://vk.com/club23904?w=wall-23904_314682  ...  8   2    0          0   \n",
       "9   https://vk.com/club23904?w=wall-23904_314676  ...  0   0    0          1   \n",
       "10  https://vk.com/club23904?w=wall-23904_314664  ...  0   0    0          0   \n",
       "11  https://vk.com/club23904?w=wall-23904_314659  ...  0   0    0          0   \n",
       "12  https://vk.com/club23904?w=wall-23904_314656  ...  0   0    0          0   \n",
       "\n",
       "    ПРОШЕДШЕЕ  ПОЗИТИВНОСТЬ  НЕЙТРАЛЬНОСТЬ  НЕГАТИВНОСТЬ СЕНТИМЕНТ ТОНАЛЬНОСТЬ  \n",
       "0           1      0.000000       0.877487      0.129413         3           0  \n",
       "1           0      0.000000       0.672342      0.071601         3           0  \n",
       "2           1      0.245095       0.422515      0.000000         3           0  \n",
       "3           3      0.092698       0.629785      0.228166         3           0  \n",
       "4           0      0.069552       0.712242      0.125933         3           0  \n",
       "5           0      0.173298       0.554480      0.069552         3           0  \n",
       "6           6      0.206904       0.437833      0.196836         3           0  \n",
       "7          19      0.148057       0.658428      0.160276         3           0  \n",
       "8          10      0.196836       0.300756      0.100889         3           0  \n",
       "9           2      0.073706       0.665421      0.201823         3           0  \n",
       "10          3      0.090103       0.777310      0.125933         3           0  \n",
       "11          1      0.136618       0.430157      0.160276         3           0  \n",
       "12         11      0.080367       0.754925      0.156115         3           0  \n",
       "\n",
       "[13 rows x 31 columns]"
      ]
     },
     "execution_count": 74,
     "metadata": {},
     "output_type": "execute_result"
    }
   ],
   "source": [
    "subset"
   ]
  },
  {
   "cell_type": "code",
   "execution_count": null,
   "id": "4abbb4bf-30cd-4206-b553-ab371435e869",
   "metadata": {},
   "outputs": [],
   "source": []
  },
  {
   "cell_type": "code",
   "execution_count": null,
   "id": "ced490bf-4237-415b-b6c8-b4c322088ce2",
   "metadata": {},
   "outputs": [],
   "source": []
  }
 ],
 "metadata": {
  "kernelspec": {
   "display_name": "Python 3 (ipykernel)",
   "language": "python",
   "name": "python3"
  },
  "language_info": {
   "codemirror_mode": {
    "name": "ipython",
    "version": 3
   },
   "file_extension": ".py",
   "mimetype": "text/x-python",
   "name": "python",
   "nbconvert_exporter": "python",
   "pygments_lexer": "ipython3",
   "version": "3.9.7"
  },
  "toc-autonumbering": false,
  "toc-showcode": false,
  "toc-showmarkdowntxt": true,
  "toc-showtags": false
 },
 "nbformat": 4,
 "nbformat_minor": 5
}
